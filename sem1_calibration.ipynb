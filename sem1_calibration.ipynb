{
 "cells": [
  {
   "cell_type": "markdown",
   "metadata": {},
   "source": [
    "# Калибровка вероятности дефолта\n",
    "\n",
    "Для принятия решения важно не только учметь разделять между собой \"хороших\" клиентов от \"плохих\", но и достаточно точно прогнозировать вероятность наступления дефолта. Когда качество разделения модели достаточно сильное, но попадание в реальные риски плохое, можно производить калибровку - несложное преобразование прогноза вероятности дефолта. Данная задача также часто возникает, когда появляется новый продукт или новый сегмент слабо представленный в обучающей выборке, и  возможность перестраивания модели отсутствует.\n",
    "\n",
    "В данном ноутбуке мы рассмотрим несколько подходов к калибровки модели."
   ]
  },
  {
   "cell_type": "markdown",
   "metadata": {},
   "source": [
    "Загрузим сначала выборку с данными."
   ]
  },
  {
   "cell_type": "code",
   "execution_count": 1,
   "metadata": {},
   "outputs": [
    {
     "data": {
      "text/html": [
       "<div>\n",
       "<style scoped>\n",
       "    .dataframe tbody tr th:only-of-type {\n",
       "        vertical-align: middle;\n",
       "    }\n",
       "\n",
       "    .dataframe tbody tr th {\n",
       "        vertical-align: top;\n",
       "    }\n",
       "\n",
       "    .dataframe thead th {\n",
       "        text-align: right;\n",
       "    }\n",
       "</style>\n",
       "<table border=\"1\" class=\"dataframe\">\n",
       "  <thead>\n",
       "    <tr style=\"text-align: right;\">\n",
       "      <th></th>\n",
       "      <th>pd</th>\n",
       "      <th>default_flg</th>\n",
       "      <th>category_feature</th>\n",
       "    </tr>\n",
       "  </thead>\n",
       "  <tbody>\n",
       "    <tr>\n",
       "      <th>0</th>\n",
       "      <td>0.108868</td>\n",
       "      <td>0</td>\n",
       "      <td>E</td>\n",
       "    </tr>\n",
       "    <tr>\n",
       "      <th>1</th>\n",
       "      <td>0.146724</td>\n",
       "      <td>0</td>\n",
       "      <td>E</td>\n",
       "    </tr>\n",
       "    <tr>\n",
       "      <th>2</th>\n",
       "      <td>0.094514</td>\n",
       "      <td>0</td>\n",
       "      <td>E</td>\n",
       "    </tr>\n",
       "    <tr>\n",
       "      <th>3</th>\n",
       "      <td>0.092973</td>\n",
       "      <td>0</td>\n",
       "      <td>C</td>\n",
       "    </tr>\n",
       "    <tr>\n",
       "      <th>4</th>\n",
       "      <td>0.265591</td>\n",
       "      <td>1</td>\n",
       "      <td>E</td>\n",
       "    </tr>\n",
       "  </tbody>\n",
       "</table>\n",
       "</div>"
      ],
      "text/plain": [
       "         pd  default_flg category_feature\n",
       "0  0.108868            0                E\n",
       "1  0.146724            0                E\n",
       "2  0.094514            0                E\n",
       "3  0.092973            0                C\n",
       "4  0.265591            1                E"
      ]
     },
     "execution_count": 1,
     "metadata": {},
     "output_type": "execute_result"
    }
   ],
   "source": [
    "import pandas as pd\n",
    "import numpy as np\n",
    "%matplotlib inline\n",
    "\n",
    "url_calibration = 'https://www.dropbox.com/s/a5tlpq8njxg5d33/calibration.csv?dl=1'\n",
    "df = pd.read_csv(url_calibration)\n",
    "df.head() \n",
    "# pd - то, что предсказали\n",
    "# default_flg - правильный ответ\n",
    "# что category_feature значит"
   ]
  },
  {
   "cell_type": "code",
   "execution_count": 2,
   "metadata": {},
   "outputs": [
    {
     "data": {
      "text/plain": [
       "(30000, 3)"
      ]
     },
     "execution_count": 2,
     "metadata": {},
     "output_type": "execute_result"
    }
   ],
   "source": [
    "df.shape"
   ]
  },
  {
   "cell_type": "markdown",
   "metadata": {},
   "source": [
    "В данной выборке присутствует 30000 наблюдений, и три поля."
   ]
  },
  {
   "cell_type": "markdown",
   "metadata": {},
   "source": [
    "# Визуализация качества прогноза\n",
    "\n",
    "Выборка разбивается на равные по количеству бакеты в зависимости от значения прогноза. В каждом бакете считается средний прогноз и частота наступления дефолта."
   ]
  },
  {
   "cell_type": "code",
   "execution_count": 22,
   "metadata": {},
   "outputs": [],
   "source": [
    "def plot_gain_chart(target, prob, num_buck=10):    \n",
    "    data = pd.DataFrame({'target': target, 'predict': prob})\n",
    "    # qcut делит всю выборку на num_buck квантилей и присваивает каждому объекту значение номера квантили, \n",
    "    # в которую он попадает\n",
    "    buckets = pd.qcut(prob, q=num_buck)\n",
    "    # mean для квантили i - среднее значение по всем объектам из квантили i (целевой переменной и самого объекта)\n",
    "    aggregated = data.groupby(buckets).agg({'target': 'mean', 'predict': 'mean'})\n",
    "    aggregated = aggregated.sort_index(ascending=False).reset_index(drop=True)\n",
    "    aggregated.plot(kind='bar', grid=True)\n",
    "#    return aggregated"
   ]
  },
  {
   "cell_type": "code",
   "execution_count": 23,
   "metadata": {},
   "outputs": [
    {
     "data": {
      "image/png": "[encoded data removed]",
      "text/plain": [
       "<matplotlib.figure.Figure at 0x10a695940>"
      ]
     },
     "metadata": {},
     "output_type": "display_data"
    }
   ],
   "source": [
    "plot_gain_chart(df['default_flg'], df['pd'])"
   ]
  },
  {
   "cell_type": "markdown",
   "metadata": {},
   "source": [
    "По данной диаграмме видно, что среди бакетов [0, 1, 2] реальная частота дефолтов оказывается выше, чем средний прогноз.  "
   ]
  },
  {
   "cell_type": "markdown",
   "metadata": {},
   "source": [
    "К массиву `df['pd']` можно применять арифметические преобразования, которые применяются поэлементно."
   ]
  },
  {
   "cell_type": "code",
   "execution_count": 24,
   "metadata": {},
   "outputs": [
    {
     "data": {
      "image/png": "[encoded data removed]",
      "text/plain": [
       "<matplotlib.figure.Figure at 0x1032a5f28>"
      ]
     },
     "metadata": {},
     "output_type": "display_data"
    }
   ],
   "source": [
    "plot_gain_chart(df['default_flg'], 2 * df['pd'] - 0.1)"
   ]
  },
  {
   "cell_type": "markdown",
   "metadata": {},
   "source": [
    "Так же можно применять и любые преобразования из из numpy, которые так же поэлементные. Например, `np.exp()` или `np.sin()`."
   ]
  },
  {
   "cell_type": "markdown",
   "metadata": {},
   "source": [
    "# Калибровка логистической регрессией"
   ]
  },
  {
   "cell_type": "markdown",
   "metadata": {},
   "source": [
    "В логистической регрессии присутствует сигмоидное преобразование $\\sigma(x) = \\frac{1}{1+exp(-x)}$.  "
   ]
  },
  {
   "cell_type": "markdown",
   "metadata": {},
   "source": [
    "**Задание. Напишите функцию логистического преобразования, которое является обратным к сигмоидному.**"
   ]
  },
  {
   "cell_type": "code",
   "execution_count": 30,
   "metadata": {},
   "outputs": [],
   "source": [
    "import math\n",
    "def sigmoid(x):\n",
    "  return 1 / (1 + math.exp(-x))"
   ]
  },
  {
   "cell_type": "code",
   "execution_count": 49,
   "metadata": {},
   "outputs": [],
   "source": [
    "# функция, обратная к сигмоидной\n",
    "def logit(x):    \n",
    "    y = -np.log((1-x)/x)\n",
    "    return y    "
   ]
  },
  {
   "cell_type": "code",
   "execution_count": 57,
   "metadata": {},
   "outputs": [
    {
     "data": {
      "text/plain": [
       "0.8807970779778823"
      ]
     },
     "execution_count": 57,
     "metadata": {},
     "output_type": "execute_result"
    }
   ],
   "source": [
    "sigmoid(pd.Series([2]))"
   ]
  },
  {
   "cell_type": "code",
   "execution_count": 60,
   "metadata": {},
   "outputs": [
    {
     "data": {
      "text/plain": [
       "0    2.0\n",
       "dtype: float64"
      ]
     },
     "execution_count": 60,
     "metadata": {},
     "output_type": "execute_result"
    }
   ],
   "source": [
    "logit(pd.Series(sigmoid(pd.Series([2]))))"
   ]
  },
  {
   "cell_type": "markdown",
   "metadata": {},
   "source": [
    "Создадим новый столбец `logit` в таблице"
   ]
  },
  {
   "cell_type": "code",
   "execution_count": 61,
   "metadata": {},
   "outputs": [],
   "source": [
    "df['logit'] = logit(df['pd'])"
   ]
  },
  {
   "cell_type": "code",
   "execution_count": 62,
   "metadata": {},
   "outputs": [
    {
     "data": {
      "text/html": [
       "<div>\n",
       "<style scoped>\n",
       "    .dataframe tbody tr th:only-of-type {\n",
       "        vertical-align: middle;\n",
       "    }\n",
       "\n",
       "    .dataframe tbody tr th {\n",
       "        vertical-align: top;\n",
       "    }\n",
       "\n",
       "    .dataframe thead th {\n",
       "        text-align: right;\n",
       "    }\n",
       "</style>\n",
       "<table border=\"1\" class=\"dataframe\">\n",
       "  <thead>\n",
       "    <tr style=\"text-align: right;\">\n",
       "      <th></th>\n",
       "      <th>pd</th>\n",
       "      <th>default_flg</th>\n",
       "      <th>category_feature</th>\n",
       "      <th>logit</th>\n",
       "    </tr>\n",
       "  </thead>\n",
       "  <tbody>\n",
       "    <tr>\n",
       "      <th>0</th>\n",
       "      <td>0.108868</td>\n",
       "      <td>0</td>\n",
       "      <td>E</td>\n",
       "      <td>-2.102354</td>\n",
       "    </tr>\n",
       "    <tr>\n",
       "      <th>1</th>\n",
       "      <td>0.146724</td>\n",
       "      <td>0</td>\n",
       "      <td>E</td>\n",
       "      <td>-1.760528</td>\n",
       "    </tr>\n",
       "    <tr>\n",
       "      <th>2</th>\n",
       "      <td>0.094514</td>\n",
       "      <td>0</td>\n",
       "      <td>E</td>\n",
       "      <td>-2.259719</td>\n",
       "    </tr>\n",
       "    <tr>\n",
       "      <th>3</th>\n",
       "      <td>0.092973</td>\n",
       "      <td>0</td>\n",
       "      <td>C</td>\n",
       "      <td>-2.277865</td>\n",
       "    </tr>\n",
       "    <tr>\n",
       "      <th>4</th>\n",
       "      <td>0.265591</td>\n",
       "      <td>1</td>\n",
       "      <td>E</td>\n",
       "      <td>-1.017110</td>\n",
       "    </tr>\n",
       "  </tbody>\n",
       "</table>\n",
       "</div>"
      ],
      "text/plain": [
       "         pd  default_flg category_feature     logit\n",
       "0  0.108868            0                E -2.102354\n",
       "1  0.146724            0                E -1.760528\n",
       "2  0.094514            0                E -2.259719\n",
       "3  0.092973            0                C -2.277865\n",
       "4  0.265591            1                E -1.017110"
      ]
     },
     "execution_count": 62,
     "metadata": {},
     "output_type": "execute_result"
    }
   ],
   "source": [
    "df.head()"
   ]
  },
  {
   "cell_type": "markdown",
   "metadata": {},
   "source": [
    "**Задание. Нарисуйте теперь диаграмму рассеивания между `logit` и `pd`. Точки должны лечь на часть сигмоиды.**"
   ]
  },
  {
   "cell_type": "code",
   "execution_count": 66,
   "metadata": {
    "scrolled": true
   },
   "outputs": [
    {
     "data": {
      "image/png": "[encoded data removed]",
      "text/plain": [
       "<matplotlib.figure.Figure at 0x10327c320>"
      ]
     },
     "metadata": {},
     "output_type": "display_data"
    }
   ],
   "source": [
    "df.plot(x='logit', y='pd', kind='scatter', grid=True);"
   ]
  },
  {
   "cell_type": "markdown",
   "metadata": {},
   "source": [
    "Произведем калибровку, обучив логистическую регрессию на одном признаке `df['logit']`.  \n",
    "В scikit-learn алгоритм машинного обучения выглядят следующим образом:"
   ]
  },
  {
   "cell_type": "code",
   "execution_count": 67,
   "metadata": {},
   "outputs": [],
   "source": [
    "from sklearn.linear_model import LogisticRegression\n",
    "\n",
    "classifier = LogisticRegression()                                      # Определяем объект - классификатор\n",
    "classifier.fit( df[['logit']], df['default_flg'] );                    # Производим обучение, вызвав метод fit"
   ]
  },
  {
   "cell_type": "markdown",
   "metadata": {},
   "source": [
    "После обучения (запуска метода `.fit()`), у обекта `classifier` появляются атрибуты с коэффициентами"
   ]
  },
  {
   "cell_type": "code",
   "execution_count": 68,
   "metadata": {},
   "outputs": [
    {
     "data": {
      "text/plain": [
       "array([1.99754727])"
      ]
     },
     "execution_count": 68,
     "metadata": {},
     "output_type": "execute_result"
    }
   ],
   "source": [
    "classifier.intercept_  # свободный член"
   ]
  },
  {
   "cell_type": "code",
   "execution_count": 69,
   "metadata": {},
   "outputs": [
    {
     "data": {
      "text/plain": [
       "array([[1.99923055]])"
      ]
     },
     "execution_count": 69,
     "metadata": {},
     "output_type": "execute_result"
    }
   ],
   "source": [
    "classifier.coef_       # коэффициенты перед признаками, в нашем случае всего одно число, так как признак один"
   ]
  },
  {
   "cell_type": "markdown",
   "metadata": {},
   "source": [
    "Посмотрим как теперь выглядит график gain chart."
   ]
  },
  {
   "cell_type": "code",
   "execution_count": 70,
   "metadata": {},
   "outputs": [
    {
     "data": {
      "image/png": "[encoded data removed]",
      "text/plain": [
       "<matplotlib.figure.Figure at 0x1049bfa20>"
      ]
     },
     "metadata": {},
     "output_type": "display_data"
    }
   ],
   "source": [
    "logistic_calibration = classifier.predict_proba(df[['logit']])[:, 1]\n",
    "\n",
    "plot_gain_chart(df['default_flg'], logistic_calibration)"
   ]
  },
  {
   "cell_type": "markdown",
   "metadata": {},
   "source": [
    "Столбики с прогнозом и с частотой дефолтов стали гораздо ближе.  \n",
    "Помимо визуализации полезно так же считать формальные метрики.  \n",
    "**Задание. Сравните между собой по разным метрикам точность двух прогнозов. Объясните результаты.**"
   ]
  },
  {
   "cell_type": "code",
   "execution_count": 71,
   "metadata": {},
   "outputs": [
    {
     "data": {
      "text/html": [
       "<div>\n",
       "<style scoped>\n",
       "    .dataframe tbody tr th:only-of-type {\n",
       "        vertical-align: middle;\n",
       "    }\n",
       "\n",
       "    .dataframe tbody tr th {\n",
       "        vertical-align: top;\n",
       "    }\n",
       "\n",
       "    .dataframe thead th {\n",
       "        text-align: right;\n",
       "    }\n",
       "</style>\n",
       "<table border=\"1\" class=\"dataframe\">\n",
       "  <thead>\n",
       "    <tr style=\"text-align: right;\">\n",
       "      <th></th>\n",
       "      <th>MSE</th>\n",
       "      <th>AUC</th>\n",
       "      <th>log_loss</th>\n",
       "    </tr>\n",
       "  </thead>\n",
       "  <tbody>\n",
       "    <tr>\n",
       "      <th>pd</th>\n",
       "      <td>0.121001</td>\n",
       "      <td>0.746103</td>\n",
       "      <td>0.392546</td>\n",
       "    </tr>\n",
       "    <tr>\n",
       "      <th>logistic_calibration</th>\n",
       "      <td>0.115498</td>\n",
       "      <td>0.746103</td>\n",
       "      <td>0.376995</td>\n",
       "    </tr>\n",
       "  </tbody>\n",
       "</table>\n",
       "</div>"
      ],
      "text/plain": [
       "                           MSE       AUC  log_loss\n",
       "pd                    0.121001  0.746103  0.392546\n",
       "logistic_calibration  0.115498  0.746103  0.376995"
      ]
     },
     "execution_count": 71,
     "metadata": {},
     "output_type": "execute_result"
    }
   ],
   "source": [
    "from sklearn.metrics import roc_auc_score, log_loss, mean_squared_error\n",
    "\n",
    "metrics = pd.DataFrame()  # можно создавать пустую таблицу, заполняя её позже\n",
    "\n",
    "def add_metrics(metrics, target, predict, name):\n",
    "    # для обращения к ячейкам есть метод .loc[название строки, название столбца]\n",
    "    metrics.loc[name, 'MSE'     ] = mean_squared_error (target, predict)\n",
    "    metrics.loc[name, 'AUC'     ] = roc_auc_score      (target, predict)\n",
    "    metrics.loc[name, 'log_loss'] = log_loss           (target, predict)\n",
    "\n",
    "add_metrics(metrics, df['default_flg'], df['pd'], 'pd')\n",
    "\n",
    "add_metrics(metrics, df['default_flg'], logistic_calibration, 'logistic_calibration')\n",
    "\n",
    "metrics"
   ]
  },
  {
   "cell_type": "markdown",
   "metadata": {},
   "source": [
    "**Задание. Посчитать метрики для тестовой выборки**"
   ]
  },
  {
   "cell_type": "code",
   "execution_count": 76,
   "metadata": {},
   "outputs": [
    {
     "data": {
      "text/html": [
       "<div>\n",
       "<style scoped>\n",
       "    .dataframe tbody tr th:only-of-type {\n",
       "        vertical-align: middle;\n",
       "    }\n",
       "\n",
       "    .dataframe tbody tr th {\n",
       "        vertical-align: top;\n",
       "    }\n",
       "\n",
       "    .dataframe thead th {\n",
       "        text-align: right;\n",
       "    }\n",
       "</style>\n",
       "<table border=\"1\" class=\"dataframe\">\n",
       "  <thead>\n",
       "    <tr style=\"text-align: right;\">\n",
       "      <th></th>\n",
       "      <th>MSE</th>\n",
       "      <th>AUC</th>\n",
       "      <th>log_loss</th>\n",
       "    </tr>\n",
       "  </thead>\n",
       "  <tbody>\n",
       "    <tr>\n",
       "      <th>pd</th>\n",
       "      <td>0.120079</td>\n",
       "      <td>0.74249</td>\n",
       "      <td>0.390851</td>\n",
       "    </tr>\n",
       "    <tr>\n",
       "      <th>logistic_calibration</th>\n",
       "      <td>0.115102</td>\n",
       "      <td>0.74249</td>\n",
       "      <td>0.377082</td>\n",
       "    </tr>\n",
       "  </tbody>\n",
       "</table>\n",
       "</div>"
      ],
      "text/plain": [
       "                           MSE      AUC  log_loss\n",
       "pd                    0.120079  0.74249  0.390851\n",
       "logistic_calibration  0.115102  0.74249  0.377082"
      ]
     },
     "execution_count": 76,
     "metadata": {},
     "output_type": "execute_result"
    }
   ],
   "source": [
    "metrics_test = pd.DataFrame()\n",
    "\n",
    "url_calibration_test = 'https://www.dropbox.com/s/s7bpm3tbzhqtvau/calibration_test.csv?dl=1'\n",
    "df_test = pd.read_csv(url_calibration_test)\n",
    "\n",
    "df_test['logit'] = logit(df_test['pd'])\n",
    "logistic_calibration_test = classifier.predict_proba(df_test[['logit']])[:, 1]\n",
    "\n",
    "add_metrics(metrics_test, df_test['default_flg'], df_test['pd'], 'pd')\n",
    "\n",
    "add_metrics(metrics_test, df_test['default_flg'], logistic_calibration_test, 'logistic_calibration')\n",
    "\n",
    "metrics_test"
   ]
  },
  {
   "cell_type": "markdown",
   "metadata": {},
   "source": [
    "# Калибровка линейной регрессией"
   ]
  },
  {
   "cell_type": "markdown",
   "metadata": {},
   "source": [
    "Воспользуемся теперь линейной регрессией.  \n",
    "Интерфейс обучения модели практически такой же.  "
   ]
  },
  {
   "cell_type": "code",
   "execution_count": 86,
   "metadata": {},
   "outputs": [],
   "source": [
    "from sklearn.linear_model import LinearRegression\n",
    "\n",
    "regressor = LinearRegression()\n",
    "regressor.fit(df[['pd']], df['default_flg']);"
   ]
  },
  {
   "cell_type": "markdown",
   "metadata": {},
   "source": [
    "**Задание. Посчитайте метрики для прогноза `pd_linear`. Обясните результаты.**"
   ]
  },
  {
   "cell_type": "code",
   "execution_count": null,
   "metadata": {},
   "outputs": [],
   "source": [
    "# <вставить код>\n",
    "metrics"
   ]
  },
  {
   "cell_type": "code",
   "execution_count": null,
   "metadata": {},
   "outputs": [],
   "source": [
    "# <вставить код>\n",
    "metrics_test"
   ]
  },
  {
   "cell_type": "markdown",
   "metadata": {},
   "source": [
    "# Калибровка [Isotonic regression](http://scikit-learn.org/stable/modules/isotonic.html)\n",
    "\n",
    "<img src=\"http://scikit-learn.org/stable/_images/sphx_glr_plot_isotonic_regression_0011.png\" width=500>"
   ]
  },
  {
   "cell_type": "markdown",
   "metadata": {},
   "source": [
    "Логистическая и линейная регрессия находят зависимость между наборами признаков и целевой переменной, isotonic зависимость между всего одним признаком и целевой переменной. Но за-то поиск происходит в достаточно большом классе функций - все возможные монотонные преобразования.  \n",
    "\n",
    "Из за наличия только одного признака в метод `.fit()` и `.predict()` нужно подавать одномерный массив с признаком, а не двумерную матрицу, как в прошлых моделях.\n",
    "\n",
    "**Задание. Произведите калибровку isotonic regression и посчитайте метрики. Объясните результаты.**"
   ]
  },
  {
   "cell_type": "code",
   "execution_count": null,
   "metadata": {},
   "outputs": [],
   "source": [
    "from sklearn.isotonic import IsotonicRegression\n",
    "# <вставить код>\n",
    "metrics"
   ]
  },
  {
   "cell_type": "code",
   "execution_count": null,
   "metadata": {},
   "outputs": [],
   "source": [
    "# <вставить код> для тестовой выборки\n",
    "metrics_test"
   ]
  },
  {
   "cell_type": "markdown",
   "metadata": {},
   "source": [
    "# Калибровка по отдельным группам\n",
    "\n",
    "В выборке присутствует поле `category_feature`. Попробуем построить модель с использованием двух признаков: категории и `logit`."
   ]
  },
  {
   "cell_type": "code",
   "execution_count": null,
   "metadata": {},
   "outputs": [],
   "source": [
    "import statsmodels.formula.api as smf\n",
    "\n",
    "log_reg = smf.logit('default_flg ~ category_feature + logit', data=df).fit()\n",
    "log_reg.summary2()"
   ]
  },
  {
   "cell_type": "code",
   "execution_count": null,
   "metadata": {},
   "outputs": [],
   "source": [
    "add_metrics(metrics, df['default_flg'], log_reg.predict(df), 'category')\n",
    "metrics"
   ]
  },
  {
   "cell_type": "code",
   "execution_count": null,
   "metadata": {},
   "outputs": [],
   "source": [
    "add_metrics(metrics_test, df_test['default_flg'], log_reg.predict(df_test), 'category')\n",
    "metrics_test"
   ]
  },
  {
   "cell_type": "markdown",
   "metadata": {},
   "source": [
    "Теперь возьмем только статистически знначимые признаки"
   ]
  },
  {
   "cell_type": "code",
   "execution_count": null,
   "metadata": {},
   "outputs": [],
   "source": [
    "import statsmodels.api as sm\n",
    "from patsy import dmatrices\n",
    "\n",
    "\n",
    "y, X = dmatrices('default_flg ~ category_feature + logit', data=df, return_type='dataframe')\n",
    "X = X.loc[:, log_reg.pvalues < 0.05]\n",
    "log_reg_drop = sm.Logit(y, X).fit()\n",
    "\n",
    "log_reg_drop.summary2()"
   ]
  },
  {
   "cell_type": "code",
   "execution_count": null,
   "metadata": {},
   "outputs": [],
   "source": [
    "add_metrics(metrics, df['default_flg'], log_reg_drop.predict(X), 'category_part')\n",
    "metrics"
   ]
  },
  {
   "cell_type": "markdown",
   "metadata": {},
   "source": [
    "**Задание. посчитать качество на тестовой выборке**"
   ]
  },
  {
   "cell_type": "code",
   "execution_count": null,
   "metadata": {},
   "outputs": [],
   "source": [
    "# <вставить код>\n",
    "metrics_test"
   ]
  },
  {
   "cell_type": "markdown",
   "metadata": {},
   "source": [
    "**Задание. Построить модель с формулой `default_flg ~ category_feature * logit`**"
   ]
  },
  {
   "cell_type": "code",
   "execution_count": null,
   "metadata": {},
   "outputs": [],
   "source": [
    "# <вставить код>"
   ]
  },
  {
   "cell_type": "markdown",
   "metadata": {},
   "source": [
    "Сравните метрики с предыдущими моделями. Объясните результаты."
   ]
  },
  {
   "cell_type": "markdown",
   "metadata": {},
   "source": [
    "# Ссылки\n",
    "* [10 Minutes to pandas](http://pandas.pydata.org/pandas-docs/stable/10min.html)\n",
    "* [Python Data Science Handbook](https://github.com/jakevdp/PythonDataScienceHandbook) - книга на github по анализу данных в python.\n",
    "* [scikit-learn](http://scikit-learn.org)\n",
    "* [statsmodels](http://www.statsmodels.org)"
   ]
  }
 ],
 "metadata": {
  "kernelspec": {
   "display_name": "Python 3.6",
   "language": "python",
   "name": "python3"
  },
  "language_info": {
   "codemirror_mode": {
    "name": "ipython",
    "version": 3
   },
   "file_extension": ".py",
   "mimetype": "text/x-python",
   "name": "python",
   "nbconvert_exporter": "python",
   "pygments_lexer": "ipython3",
   "version": "3.6.3"
  }
 },
 "nbformat": 4,
 "nbformat_minor": 2
}
