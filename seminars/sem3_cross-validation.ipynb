{
 "cells": [
  {
   "cell_type": "markdown",
   "metadata": {},
   "source": [
    "# Загрузка данных"
   ]
  },
  {
   "cell_type": "markdown",
   "metadata": {},
   "source": [
    "Мы будем использовать [выборку Bank Marketing](https://quiltdata.com/package/uciml/bank).\n",
    "Объектом в выборке является клиент банка, которому совершался звонок с предложением депозитного продукта.\n",
    "Целевая переменная – согласие на продукт.\n",
    "\n",
    "Для загрузки данных воспользуемся библиотекой [quilt](https://quiltdata.com).\n",
    "\n",
    "```bash\n",
    "pip install quilt\n",
    "```"
   ]
  },
  {
   "cell_type": "code",
   "execution_count": 5,
   "metadata": {},
   "outputs": [
    {
     "name": "stdout",
     "output_type": "stream",
     "text": [
      "Downloading package metadata...\n"
     ]
    },
    {
     "name": "stderr",
     "output_type": "stream",
     "text": [
      "\r",
      "  0%|          | 0.00/12.8M [00:00<?, ?B/s]"
     ]
    },
    {
     "name": "stdout",
     "output_type": "stream",
     "text": [
      "Downloading 11 fragments (12766406 bytes before compression)...\n"
     ]
    },
    {
     "name": "stderr",
     "output_type": "stream",
     "text": [
      "100%|██████████| 12.8M/12.8M [00:01<00:00, 7.17MB/s]\n"
     ]
    },
    {
     "data": {
      "text/html": [
       "<div>\n",
       "<style scoped>\n",
       "    .dataframe tbody tr th:only-of-type {\n",
       "        vertical-align: middle;\n",
       "    }\n",
       "\n",
       "    .dataframe tbody tr th {\n",
       "        vertical-align: top;\n",
       "    }\n",
       "\n",
       "    .dataframe thead th {\n",
       "        text-align: right;\n",
       "    }\n",
       "</style>\n",
       "<table border=\"1\" class=\"dataframe\">\n",
       "  <thead>\n",
       "    <tr style=\"text-align: right;\">\n",
       "      <th></th>\n",
       "      <th>age</th>\n",
       "      <th>job</th>\n",
       "      <th>marital</th>\n",
       "      <th>education</th>\n",
       "      <th>default</th>\n",
       "      <th>balance</th>\n",
       "      <th>housing</th>\n",
       "      <th>loan</th>\n",
       "      <th>contact</th>\n",
       "      <th>day</th>\n",
       "      <th>month</th>\n",
       "      <th>duration</th>\n",
       "      <th>campaign</th>\n",
       "      <th>pdays</th>\n",
       "      <th>previous</th>\n",
       "      <th>poutcome</th>\n",
       "      <th>y</th>\n",
       "    </tr>\n",
       "  </thead>\n",
       "  <tbody>\n",
       "    <tr>\n",
       "      <th>0</th>\n",
       "      <td>58</td>\n",
       "      <td>management</td>\n",
       "      <td>married</td>\n",
       "      <td>tertiary</td>\n",
       "      <td>no</td>\n",
       "      <td>2143</td>\n",
       "      <td>yes</td>\n",
       "      <td>no</td>\n",
       "      <td>unknown</td>\n",
       "      <td>5</td>\n",
       "      <td>may</td>\n",
       "      <td>261</td>\n",
       "      <td>1</td>\n",
       "      <td>-1</td>\n",
       "      <td>0</td>\n",
       "      <td>unknown</td>\n",
       "      <td>no</td>\n",
       "    </tr>\n",
       "    <tr>\n",
       "      <th>1</th>\n",
       "      <td>44</td>\n",
       "      <td>technician</td>\n",
       "      <td>single</td>\n",
       "      <td>secondary</td>\n",
       "      <td>no</td>\n",
       "      <td>29</td>\n",
       "      <td>yes</td>\n",
       "      <td>no</td>\n",
       "      <td>unknown</td>\n",
       "      <td>5</td>\n",
       "      <td>may</td>\n",
       "      <td>151</td>\n",
       "      <td>1</td>\n",
       "      <td>-1</td>\n",
       "      <td>0</td>\n",
       "      <td>unknown</td>\n",
       "      <td>no</td>\n",
       "    </tr>\n",
       "    <tr>\n",
       "      <th>2</th>\n",
       "      <td>33</td>\n",
       "      <td>entrepreneur</td>\n",
       "      <td>married</td>\n",
       "      <td>secondary</td>\n",
       "      <td>no</td>\n",
       "      <td>2</td>\n",
       "      <td>yes</td>\n",
       "      <td>yes</td>\n",
       "      <td>unknown</td>\n",
       "      <td>5</td>\n",
       "      <td>may</td>\n",
       "      <td>76</td>\n",
       "      <td>1</td>\n",
       "      <td>-1</td>\n",
       "      <td>0</td>\n",
       "      <td>unknown</td>\n",
       "      <td>no</td>\n",
       "    </tr>\n",
       "    <tr>\n",
       "      <th>3</th>\n",
       "      <td>47</td>\n",
       "      <td>blue-collar</td>\n",
       "      <td>married</td>\n",
       "      <td>unknown</td>\n",
       "      <td>no</td>\n",
       "      <td>1506</td>\n",
       "      <td>yes</td>\n",
       "      <td>no</td>\n",
       "      <td>unknown</td>\n",
       "      <td>5</td>\n",
       "      <td>may</td>\n",
       "      <td>92</td>\n",
       "      <td>1</td>\n",
       "      <td>-1</td>\n",
       "      <td>0</td>\n",
       "      <td>unknown</td>\n",
       "      <td>no</td>\n",
       "    </tr>\n",
       "    <tr>\n",
       "      <th>4</th>\n",
       "      <td>33</td>\n",
       "      <td>unknown</td>\n",
       "      <td>single</td>\n",
       "      <td>unknown</td>\n",
       "      <td>no</td>\n",
       "      <td>1</td>\n",
       "      <td>no</td>\n",
       "      <td>no</td>\n",
       "      <td>unknown</td>\n",
       "      <td>5</td>\n",
       "      <td>may</td>\n",
       "      <td>198</td>\n",
       "      <td>1</td>\n",
       "      <td>-1</td>\n",
       "      <td>0</td>\n",
       "      <td>unknown</td>\n",
       "      <td>no</td>\n",
       "    </tr>\n",
       "  </tbody>\n",
       "</table>\n",
       "</div>"
      ],
      "text/plain": [
       "   age           job  marital  education default  balance housing loan  \\\n",
       "0   58    management  married   tertiary      no     2143     yes   no   \n",
       "1   44    technician   single  secondary      no       29     yes   no   \n",
       "2   33  entrepreneur  married  secondary      no        2     yes  yes   \n",
       "3   47   blue-collar  married    unknown      no     1506     yes   no   \n",
       "4   33       unknown   single    unknown      no        1      no   no   \n",
       "\n",
       "   contact  day month  duration  campaign  pdays  previous poutcome   y  \n",
       "0  unknown    5   may       261         1     -1         0  unknown  no  \n",
       "1  unknown    5   may       151         1     -1         0  unknown  no  \n",
       "2  unknown    5   may        76         1     -1         0  unknown  no  \n",
       "3  unknown    5   may        92         1     -1         0  unknown  no  \n",
       "4  unknown    5   may       198         1     -1         0  unknown  no  "
      ]
     },
     "execution_count": 5,
     "metadata": {},
     "output_type": "execute_result"
    }
   ],
   "source": [
    "# Для первой загрузки\n",
    "import quilt\n",
    "quilt.install('uciml/bank')\n",
    "from quilt.data.uciml import bank\n",
    "\n",
    "bank_full = bank.tables.bank_full()\n",
    "bank_full.head()"
   ]
  },
  {
   "cell_type": "markdown",
   "metadata": {},
   "source": [
    "# Подготовка данных"
   ]
  },
  {
   "cell_type": "code",
   "execution_count": 6,
   "metadata": {},
   "outputs": [],
   "source": [
    "import numpy as np\n",
    "import pandas as pd\n",
    "\n",
    "features = ['age', 'job', 'marital', 'education', 'default', 'balance', \n",
    "            'housing', 'loan', 'contact', 'campaign',\n",
    "            'pdays', 'previous', 'poutcome']  # 'duration'\n",
    "\n",
    "cat_features = bank_full[features].select_dtypes(object).columns\n",
    "num_features = bank_full[features].select_dtypes(np.number).columns"
   ]
  },
  {
   "cell_type": "markdown",
   "metadata": {},
   "source": [
    "**Задание.** Произвести one hot кодировку категориальных полей.\n",
    "\n",
    "Hint: [`pd.concat`](https://pandas.pydata.org/pandas-docs/stable/generated/pandas.concat.html), [`pd.get_dummies`](https://pandas.pydata.org/pandas-docs/stable/generated/pandas.get_dummies.html)."
   ]
  },
  {
   "cell_type": "code",
   "execution_count": 9,
   "metadata": {},
   "outputs": [
    {
     "data": {
      "text/plain": [
       "(45211, 37)"
      ]
     },
     "execution_count": 9,
     "metadata": {},
     "output_type": "execute_result"
    }
   ],
   "source": [
    "X = pd.concat([bank_full[num_features], pd.get_dummies(bank_full[cat_features])], axis=1)\n",
    "X.shape"
   ]
  },
  {
   "cell_type": "code",
   "execution_count": 10,
   "metadata": {},
   "outputs": [],
   "source": [
    "y = bank_full['y'].replace({'yes': 1, 'no': 0}) # ~ LabelEncoder()"
   ]
  },
  {
   "cell_type": "markdown",
   "metadata": {},
   "source": [
    "Разделим выборку по времени"
   ]
  },
  {
   "cell_type": "code",
   "execution_count": 11,
   "metadata": {},
   "outputs": [],
   "source": [
    "from sklearn.model_selection import train_test_split\n",
    "X_train, X_test, y_train, y_test = train_test_split(X, y, test_size=0.33)"
   ]
  },
  {
   "cell_type": "markdown",
   "metadata": {},
   "source": [
    "# Извлечение зависимости"
   ]
  },
  {
   "cell_type": "code",
   "execution_count": 12,
   "metadata": {},
   "outputs": [],
   "source": [
    "from sklearn.ensemble import GradientBoostingClassifier\n",
    "from sklearn.model_selection import cross_val_score, StratifiedKFold"
   ]
  },
  {
   "cell_type": "code",
   "execution_count": 13,
   "metadata": {},
   "outputs": [
    {
     "data": {
      "text/plain": [
       "array([0.71911506, 0.7578471 , 0.74462443])"
      ]
     },
     "execution_count": 13,
     "metadata": {},
     "output_type": "execute_result"
    }
   ],
   "source": [
    "cv = StratifiedKFold(n_splits=3, random_state=42, shuffle=True)\n",
    "\n",
    "clf = GradientBoostingClassifier(learning_rate=0.1, n_estimators=10)\n",
    "\n",
    "cv_score = cross_val_score(clf, X_train, y_train, cv=cv, scoring='roc_auc')\n",
    "cv_score"
   ]
  },
  {
   "cell_type": "markdown",
   "metadata": {},
   "source": [
    "---"
   ]
  },
  {
   "cell_type": "code",
   "execution_count": 14,
   "metadata": {},
   "outputs": [],
   "source": [
    "from sklearn.model_selection import GridSearchCV"
   ]
  },
  {
   "cell_type": "code",
   "execution_count": 15,
   "metadata": {},
   "outputs": [],
   "source": [
    "booster_grid = {'learning_rate': [0.1, 0.05, 0.01], 'max_depth': [2, 3]}\n",
    "\n",
    "booster = GradientBoostingClassifier(n_estimators=100)\n",
    "\n",
    "gs_booster = GridSearchCV(booster, booster_grid, scoring='roc_auc',\n",
    "                          cv=cv, verbose=1, n_jobs=-1, return_train_score=True)"
   ]
  },
  {
   "cell_type": "code",
   "execution_count": 16,
   "metadata": {},
   "outputs": [
    {
     "name": "stdout",
     "output_type": "stream",
     "text": [
      "Fitting 3 folds for each of 6 candidates, totalling 18 fits\n"
     ]
    },
    {
     "name": "stderr",
     "output_type": "stream",
     "text": [
      "[Parallel(n_jobs=-1)]: Done  18 out of  18 | elapsed:   23.4s finished\n"
     ]
    },
    {
     "data": {
      "text/plain": [
       "{'learning_rate': 0.1, 'max_depth': 3}"
      ]
     },
     "execution_count": 16,
     "metadata": {},
     "output_type": "execute_result"
    }
   ],
   "source": [
    "gs_booster.fit(X_train, y_train);\n",
    "gs_booster.best_params_"
   ]
  },
  {
   "cell_type": "code",
   "execution_count": 17,
   "metadata": {},
   "outputs": [
    {
     "data": {
      "text/html": [
       "<div>\n",
       "<style scoped>\n",
       "    .dataframe tbody tr th:only-of-type {\n",
       "        vertical-align: middle;\n",
       "    }\n",
       "\n",
       "    .dataframe tbody tr th {\n",
       "        vertical-align: top;\n",
       "    }\n",
       "\n",
       "    .dataframe thead th {\n",
       "        text-align: right;\n",
       "    }\n",
       "</style>\n",
       "<table border=\"1\" class=\"dataframe\">\n",
       "  <thead>\n",
       "    <tr style=\"text-align: right;\">\n",
       "      <th></th>\n",
       "      <th>mean_fit_time</th>\n",
       "      <th>mean_score_time</th>\n",
       "      <th>mean_test_score</th>\n",
       "      <th>mean_train_score</th>\n",
       "      <th>param_learning_rate</th>\n",
       "      <th>param_max_depth</th>\n",
       "      <th>params</th>\n",
       "      <th>rank_test_score</th>\n",
       "      <th>split0_test_score</th>\n",
       "      <th>split0_train_score</th>\n",
       "      <th>split1_test_score</th>\n",
       "      <th>split1_train_score</th>\n",
       "      <th>split2_test_score</th>\n",
       "      <th>split2_train_score</th>\n",
       "      <th>std_fit_time</th>\n",
       "      <th>std_score_time</th>\n",
       "      <th>std_test_score</th>\n",
       "      <th>std_train_score</th>\n",
       "    </tr>\n",
       "  </thead>\n",
       "  <tbody>\n",
       "    <tr>\n",
       "      <th>0</th>\n",
       "      <td>3.513916</td>\n",
       "      <td>0.042797</td>\n",
       "      <td>0.763322</td>\n",
       "      <td>0.773994</td>\n",
       "      <td>0.1</td>\n",
       "      <td>2</td>\n",
       "      <td>{'learning_rate': 0.1, 'max_depth': 2}</td>\n",
       "      <td>2</td>\n",
       "      <td>0.742326</td>\n",
       "      <td>0.784598</td>\n",
       "      <td>0.779717</td>\n",
       "      <td>0.765063</td>\n",
       "      <td>0.767926</td>\n",
       "      <td>0.772321</td>\n",
       "      <td>0.029720</td>\n",
       "      <td>0.004291</td>\n",
       "      <td>0.015608</td>\n",
       "      <td>0.008062</td>\n",
       "    </tr>\n",
       "    <tr>\n",
       "      <th>1</th>\n",
       "      <td>5.293918</td>\n",
       "      <td>0.041146</td>\n",
       "      <td>0.765051</td>\n",
       "      <td>0.786433</td>\n",
       "      <td>0.1</td>\n",
       "      <td>3</td>\n",
       "      <td>{'learning_rate': 0.1, 'max_depth': 3}</td>\n",
       "      <td>1</td>\n",
       "      <td>0.742973</td>\n",
       "      <td>0.796991</td>\n",
       "      <td>0.783234</td>\n",
       "      <td>0.778655</td>\n",
       "      <td>0.768949</td>\n",
       "      <td>0.783654</td>\n",
       "      <td>0.247224</td>\n",
       "      <td>0.000868</td>\n",
       "      <td>0.016666</td>\n",
       "      <td>0.007739</td>\n",
       "    </tr>\n",
       "    <tr>\n",
       "      <th>2</th>\n",
       "      <td>3.096929</td>\n",
       "      <td>0.037616</td>\n",
       "      <td>0.759354</td>\n",
       "      <td>0.766731</td>\n",
       "      <td>0.05</td>\n",
       "      <td>2</td>\n",
       "      <td>{'learning_rate': 0.05, 'max_depth': 2}</td>\n",
       "      <td>4</td>\n",
       "      <td>0.738108</td>\n",
       "      <td>0.776826</td>\n",
       "      <td>0.777517</td>\n",
       "      <td>0.758625</td>\n",
       "      <td>0.762440</td>\n",
       "      <td>0.764743</td>\n",
       "      <td>0.048109</td>\n",
       "      <td>0.001032</td>\n",
       "      <td>0.016236</td>\n",
       "      <td>0.007563</td>\n",
       "    </tr>\n",
       "    <tr>\n",
       "      <th>3</th>\n",
       "      <td>5.541656</td>\n",
       "      <td>0.058827</td>\n",
       "      <td>0.762881</td>\n",
       "      <td>0.776501</td>\n",
       "      <td>0.05</td>\n",
       "      <td>3</td>\n",
       "      <td>{'learning_rate': 0.05, 'max_depth': 3}</td>\n",
       "      <td>3</td>\n",
       "      <td>0.740280</td>\n",
       "      <td>0.786956</td>\n",
       "      <td>0.780231</td>\n",
       "      <td>0.768505</td>\n",
       "      <td>0.768135</td>\n",
       "      <td>0.774043</td>\n",
       "      <td>0.054786</td>\n",
       "      <td>0.007452</td>\n",
       "      <td>0.016728</td>\n",
       "      <td>0.007730</td>\n",
       "    </tr>\n",
       "    <tr>\n",
       "      <th>4</th>\n",
       "      <td>3.877026</td>\n",
       "      <td>0.071606</td>\n",
       "      <td>0.717524</td>\n",
       "      <td>0.718477</td>\n",
       "      <td>0.01</td>\n",
       "      <td>2</td>\n",
       "      <td>{'learning_rate': 0.01, 'max_depth': 2}</td>\n",
       "      <td>6</td>\n",
       "      <td>0.698478</td>\n",
       "      <td>0.725478</td>\n",
       "      <td>0.738692</td>\n",
       "      <td>0.712773</td>\n",
       "      <td>0.715402</td>\n",
       "      <td>0.717180</td>\n",
       "      <td>1.026469</td>\n",
       "      <td>0.026604</td>\n",
       "      <td>0.016486</td>\n",
       "      <td>0.005267</td>\n",
       "    </tr>\n",
       "    <tr>\n",
       "      <th>5</th>\n",
       "      <td>7.188627</td>\n",
       "      <td>0.028485</td>\n",
       "      <td>0.741938</td>\n",
       "      <td>0.747013</td>\n",
       "      <td>0.01</td>\n",
       "      <td>3</td>\n",
       "      <td>{'learning_rate': 0.01, 'max_depth': 3}</td>\n",
       "      <td>5</td>\n",
       "      <td>0.721123</td>\n",
       "      <td>0.757458</td>\n",
       "      <td>0.760244</td>\n",
       "      <td>0.736917</td>\n",
       "      <td>0.744451</td>\n",
       "      <td>0.746664</td>\n",
       "      <td>0.811240</td>\n",
       "      <td>0.005995</td>\n",
       "      <td>0.016070</td>\n",
       "      <td>0.008389</td>\n",
       "    </tr>\n",
       "  </tbody>\n",
       "</table>\n",
       "</div>"
      ],
      "text/plain": [
       "   mean_fit_time  mean_score_time  mean_test_score  mean_train_score  \\\n",
       "0       3.513916         0.042797         0.763322          0.773994   \n",
       "1       5.293918         0.041146         0.765051          0.786433   \n",
       "2       3.096929         0.037616         0.759354          0.766731   \n",
       "3       5.541656         0.058827         0.762881          0.776501   \n",
       "4       3.877026         0.071606         0.717524          0.718477   \n",
       "5       7.188627         0.028485         0.741938          0.747013   \n",
       "\n",
       "  param_learning_rate param_max_depth  \\\n",
       "0                 0.1               2   \n",
       "1                 0.1               3   \n",
       "2                0.05               2   \n",
       "3                0.05               3   \n",
       "4                0.01               2   \n",
       "5                0.01               3   \n",
       "\n",
       "                                    params  rank_test_score  \\\n",
       "0   {'learning_rate': 0.1, 'max_depth': 2}                2   \n",
       "1   {'learning_rate': 0.1, 'max_depth': 3}                1   \n",
       "2  {'learning_rate': 0.05, 'max_depth': 2}                4   \n",
       "3  {'learning_rate': 0.05, 'max_depth': 3}                3   \n",
       "4  {'learning_rate': 0.01, 'max_depth': 2}                6   \n",
       "5  {'learning_rate': 0.01, 'max_depth': 3}                5   \n",
       "\n",
       "   split0_test_score  split0_train_score  split1_test_score  \\\n",
       "0           0.742326            0.784598           0.779717   \n",
       "1           0.742973            0.796991           0.783234   \n",
       "2           0.738108            0.776826           0.777517   \n",
       "3           0.740280            0.786956           0.780231   \n",
       "4           0.698478            0.725478           0.738692   \n",
       "5           0.721123            0.757458           0.760244   \n",
       "\n",
       "   split1_train_score  split2_test_score  split2_train_score  std_fit_time  \\\n",
       "0            0.765063           0.767926            0.772321      0.029720   \n",
       "1            0.778655           0.768949            0.783654      0.247224   \n",
       "2            0.758625           0.762440            0.764743      0.048109   \n",
       "3            0.768505           0.768135            0.774043      0.054786   \n",
       "4            0.712773           0.715402            0.717180      1.026469   \n",
       "5            0.736917           0.744451            0.746664      0.811240   \n",
       "\n",
       "   std_score_time  std_test_score  std_train_score  \n",
       "0        0.004291        0.015608         0.008062  \n",
       "1        0.000868        0.016666         0.007739  \n",
       "2        0.001032        0.016236         0.007563  \n",
       "3        0.007452        0.016728         0.007730  \n",
       "4        0.026604        0.016486         0.005267  \n",
       "5        0.005995        0.016070         0.008389  "
      ]
     },
     "execution_count": 17,
     "metadata": {},
     "output_type": "execute_result"
    }
   ],
   "source": [
    "# param_learning_rate - важно понимать, на что тратится больше времени\n",
    "pd.DataFrame(gs_booster.cv_results_)"
   ]
  },
  {
   "cell_type": "markdown",
   "metadata": {},
   "source": [
    "---"
   ]
  },
  {
   "cell_type": "markdown",
   "metadata": {},
   "source": [
    "**Задание** Подберите параметр количества соседей для KNeighborsClassifier в диапозоне [1, 5, 10], делая при этом нормировку StandardScaler\n",
    "\n",
    "Hint: для [`make_pipeline`](http://scikit-learn.org/stable/modules/generated/sklearn.pipeline.make_pipeline.html)"
   ]
  },
  {
   "cell_type": "code",
   "execution_count": 20,
   "metadata": {},
   "outputs": [],
   "source": [
    "# для knn важно скалировать признаки (так чтобы стандартное отклонение равнялось 1 у всех признаков)"
   ]
  },
  {
   "cell_type": "code",
   "execution_count": 25,
   "metadata": {},
   "outputs": [],
   "source": [
    "from sklearn.neighbors import KNeighborsClassifier\n",
    "from sklearn.pipeline import make_pipeline\n",
    "from sklearn.preprocessing import StandardScaler\n",
    "\n",
    "# чтобы указать, что параметр относится только к 1 шагу pipeline:\n",
    "knn_grid = {'kneighborsclassifier__n_neighbors':[1,5,10]}\n",
    "\n",
    "knn = make_pipeline(\n",
    "    StandardScaler(),\n",
    "    KNeighborsClassifier()\n",
    ")\n",
    "\n",
    "gs_knn = GridSearchCV(knn, knn_grid, scoring='roc_auc', cv=cv, verbose=1, n_jobs=-1, return_train_score=True)"
   ]
  },
  {
   "cell_type": "code",
   "execution_count": 26,
   "metadata": {},
   "outputs": [
    {
     "name": "stdout",
     "output_type": "stream",
     "text": [
      "Fitting 3 folds for each of 3 candidates, totalling 9 fits\n"
     ]
    },
    {
     "name": "stderr",
     "output_type": "stream",
     "text": [
      "[Parallel(n_jobs=-1)]: Done   9 out of   9 | elapsed:  2.2min finished\n"
     ]
    },
    {
     "data": {
      "text/plain": [
       "{'kneighborsclassifier__n_neighbors': 10}"
      ]
     },
     "execution_count": 26,
     "metadata": {},
     "output_type": "execute_result"
    }
   ],
   "source": [
    "gs_knn.fit(X_train, y_train)\n",
    "gs_knn.best_params_"
   ]
  },
  {
   "cell_type": "code",
   "execution_count": 27,
   "metadata": {},
   "outputs": [
    {
     "data": {
      "text/html": [
       "<div>\n",
       "<style scoped>\n",
       "    .dataframe tbody tr th:only-of-type {\n",
       "        vertical-align: middle;\n",
       "    }\n",
       "\n",
       "    .dataframe tbody tr th {\n",
       "        vertical-align: top;\n",
       "    }\n",
       "\n",
       "    .dataframe thead th {\n",
       "        text-align: right;\n",
       "    }\n",
       "</style>\n",
       "<table border=\"1\" class=\"dataframe\">\n",
       "  <thead>\n",
       "    <tr style=\"text-align: right;\">\n",
       "      <th></th>\n",
       "      <th>mean_fit_time</th>\n",
       "      <th>mean_score_time</th>\n",
       "      <th>mean_test_score</th>\n",
       "      <th>mean_train_score</th>\n",
       "      <th>param_kneighborsclassifier__n_neighbors</th>\n",
       "      <th>params</th>\n",
       "      <th>rank_test_score</th>\n",
       "      <th>split0_test_score</th>\n",
       "      <th>split0_train_score</th>\n",
       "      <th>split1_test_score</th>\n",
       "      <th>split1_train_score</th>\n",
       "      <th>split2_test_score</th>\n",
       "      <th>split2_train_score</th>\n",
       "      <th>std_fit_time</th>\n",
       "      <th>std_score_time</th>\n",
       "      <th>std_test_score</th>\n",
       "      <th>std_train_score</th>\n",
       "    </tr>\n",
       "  </thead>\n",
       "  <tbody>\n",
       "    <tr>\n",
       "      <th>0</th>\n",
       "      <td>1.753259</td>\n",
       "      <td>11.667274</td>\n",
       "      <td>0.589381</td>\n",
       "      <td>0.998707</td>\n",
       "      <td>1</td>\n",
       "      <td>{'kneighborsclassifier__n_neighbors': 1}</td>\n",
       "      <td>3</td>\n",
       "      <td>0.582120</td>\n",
       "      <td>0.999076</td>\n",
       "      <td>0.593247</td>\n",
       "      <td>0.997844</td>\n",
       "      <td>0.592777</td>\n",
       "      <td>0.999202</td>\n",
       "      <td>0.574871</td>\n",
       "      <td>0.382580</td>\n",
       "      <td>0.005138</td>\n",
       "      <td>0.000613</td>\n",
       "    </tr>\n",
       "    <tr>\n",
       "      <th>1</th>\n",
       "      <td>1.079380</td>\n",
       "      <td>20.298389</td>\n",
       "      <td>0.669972</td>\n",
       "      <td>0.906407</td>\n",
       "      <td>5</td>\n",
       "      <td>{'kneighborsclassifier__n_neighbors': 5}</td>\n",
       "      <td>2</td>\n",
       "      <td>0.660767</td>\n",
       "      <td>0.910913</td>\n",
       "      <td>0.671825</td>\n",
       "      <td>0.904915</td>\n",
       "      <td>0.677327</td>\n",
       "      <td>0.903392</td>\n",
       "      <td>0.530134</td>\n",
       "      <td>0.410243</td>\n",
       "      <td>0.006886</td>\n",
       "      <td>0.003246</td>\n",
       "    </tr>\n",
       "    <tr>\n",
       "      <th>2</th>\n",
       "      <td>0.804711</td>\n",
       "      <td>22.725230</td>\n",
       "      <td>0.697315</td>\n",
       "      <td>0.860777</td>\n",
       "      <td>10</td>\n",
       "      <td>{'kneighborsclassifier__n_neighbors': 10}</td>\n",
       "      <td>1</td>\n",
       "      <td>0.679832</td>\n",
       "      <td>0.866974</td>\n",
       "      <td>0.708671</td>\n",
       "      <td>0.859664</td>\n",
       "      <td>0.703444</td>\n",
       "      <td>0.855692</td>\n",
       "      <td>0.217438</td>\n",
       "      <td>3.216899</td>\n",
       "      <td>0.012546</td>\n",
       "      <td>0.004673</td>\n",
       "    </tr>\n",
       "  </tbody>\n",
       "</table>\n",
       "</div>"
      ],
      "text/plain": [
       "   mean_fit_time  mean_score_time  mean_test_score  mean_train_score  \\\n",
       "0       1.753259        11.667274         0.589381          0.998707   \n",
       "1       1.079380        20.298389         0.669972          0.906407   \n",
       "2       0.804711        22.725230         0.697315          0.860777   \n",
       "\n",
       "  param_kneighborsclassifier__n_neighbors  \\\n",
       "0                                       1   \n",
       "1                                       5   \n",
       "2                                      10   \n",
       "\n",
       "                                      params  rank_test_score  \\\n",
       "0   {'kneighborsclassifier__n_neighbors': 1}                3   \n",
       "1   {'kneighborsclassifier__n_neighbors': 5}                2   \n",
       "2  {'kneighborsclassifier__n_neighbors': 10}                1   \n",
       "\n",
       "   split0_test_score  split0_train_score  split1_test_score  \\\n",
       "0           0.582120            0.999076           0.593247   \n",
       "1           0.660767            0.910913           0.671825   \n",
       "2           0.679832            0.866974           0.708671   \n",
       "\n",
       "   split1_train_score  split2_test_score  split2_train_score  std_fit_time  \\\n",
       "0            0.997844           0.592777            0.999202      0.574871   \n",
       "1            0.904915           0.677327            0.903392      0.530134   \n",
       "2            0.859664           0.703444            0.855692      0.217438   \n",
       "\n",
       "   std_score_time  std_test_score  std_train_score  \n",
       "0        0.382580        0.005138         0.000613  \n",
       "1        0.410243        0.006886         0.003246  \n",
       "2        3.216899        0.012546         0.004673  "
      ]
     },
     "execution_count": 27,
     "metadata": {},
     "output_type": "execute_result"
    }
   ],
   "source": [
    "pd.DataFrame(gs_knn.cv_results_)"
   ]
  },
  {
   "cell_type": "markdown",
   "metadata": {},
   "source": [
    "0.998707 - качество почти 1: запомнили выборку и ближайший 1 объект к объекту - это он сам  \n",
    "не 1 , потому что где-то два объекта с абсолютно одинаковыми признаками имеют разные классы"
   ]
  },
  {
   "cell_type": "markdown",
   "metadata": {},
   "source": [
    "---"
   ]
  },
  {
   "cell_type": "markdown",
   "metadata": {},
   "source": [
    "**Задание** Перед запуском Knn произведите отбор самых важных признаков, используя [`SelectFromModel`](http://scikit-learn.org/stable/modules/generated/sklearn.feature_selection.SelectFromModel.html), перебирая значения `threshold` в диапозоне ['0.1*mean', '0.5*mean', 'mean'], а в качестве модели взять [`DecisionTreeClassifier`](http://scikit-learn.org/stable/modules/generated/sklearn.tree.DecisionTreeClassifier.html)."
   ]
  },
  {
   "cell_type": "markdown",
   "metadata": {},
   "source": [
    "Применяем дерево решений и отбираем только такие фичи, у которых важность больше заданного значения."
   ]
  },
  {
   "cell_type": "markdown",
   "metadata": {},
   "source": [
    "Важно делать pipeline, потому что каждый раз нужно делать скалирование, отбор признаков и т п. Руками повторять не хочется."
   ]
  },
  {
   "cell_type": "code",
   "execution_count": 43,
   "metadata": {},
   "outputs": [],
   "source": [
    "# пример работы отбора признаков"
   ]
  },
  {
   "cell_type": "code",
   "execution_count": 42,
   "metadata": {},
   "outputs": [
    {
     "data": {
      "text/plain": [
       "poutcome_success       0.400687\n",
       "age                    0.157382\n",
       "pdays                  0.105053\n",
       "balance                0.078634\n",
       "contact_unknown        0.052611\n",
       "housing_no             0.036798\n",
       "campaign               0.034978\n",
       "previous               0.021562\n",
       "loan_yes               0.009946\n",
       "marital_single         0.009434\n",
       "job_admin.             0.006739\n",
       "job_blue-collar        0.006704\n",
       "job_management         0.005842\n",
       "education_primary      0.005840\n",
       "job_technician         0.005781\n",
       "education_tertiary     0.005557\n",
       "education_secondary    0.005317\n",
       "marital_married        0.005265\n",
       "job_student            0.004804\n",
       "contact_cellular       0.004780\n",
       "loan_no                0.004675\n",
       "marital_divorced       0.004560\n",
       "job_retired            0.004367\n",
       "education_unknown      0.004080\n",
       "poutcome_failure       0.003538\n",
       "job_unemployed         0.003452\n",
       "job_entrepreneur       0.002266\n",
       "contact_telephone      0.002142\n",
       "job_self-employed      0.001365\n",
       "poutcome_other         0.001357\n",
       "job_services           0.001280\n",
       "job_housemaid          0.001134\n",
       "poutcome_unknown       0.000925\n",
       "default_no             0.000925\n",
       "housing_yes            0.000224\n",
       "job_unknown            0.000000\n",
       "default_yes            0.000000\n",
       "dtype: float64"
      ]
     },
     "execution_count": 42,
     "metadata": {},
     "output_type": "execute_result"
    }
   ],
   "source": [
    "tree = DecisionTreeClassifier(max_depth=10).fit(X_train, y_train)\n",
    "pd.Series(tree.feature_importances_, index=X_train.columns).sort_values(ascending=False)"
   ]
  },
  {
   "cell_type": "code",
   "execution_count": null,
   "metadata": {},
   "outputs": [],
   "source": [
    "SelectFromModel() #shift enter - посмотреть подсказку"
   ]
  },
  {
   "cell_type": "code",
   "execution_count": 30,
   "metadata": {},
   "outputs": [],
   "source": [
    "from sklearn.feature_selection import SelectFromModel\n",
    "from sklearn.tree import DecisionTreeClassifier"
   ]
  },
  {
   "cell_type": "markdown",
   "metadata": {},
   "source": [
    "SelectFromModel(DecisionTreeClassifier(max_depth=10)) - этому шагу возвращается обучающая выборка, на выходе набор   признаков. Каждому степу еще и целевая переменная подается.  \n",
    "У дерева решения берется feature_importance и берется среднее по ним. Можно брать медиану или еще что."
   ]
  },
  {
   "cell_type": "code",
   "execution_count": 48,
   "metadata": {},
   "outputs": [],
   "source": [
    "knn_sel_grid = {'selectfrommodel__threshold':['0.1*mean', '0.5*mean', 'mean']}\n",
    "knn_sel = make_pipeline(\n",
    "    StandardScaler(),\n",
    "    SelectFromModel(DecisionTreeClassifier(max_depth=10)),\n",
    "    KNeighborsClassifier(n_neighbors=5)\n",
    ")\n",
    "\n",
    "gs_knn_sel = GridSearchCV(knn_sel, knn_sel_grid, scoring='roc_auc', cv=cv, verbose=1, n_jobs=-1, return_train_score=True)"
   ]
  },
  {
   "cell_type": "code",
   "execution_count": 49,
   "metadata": {},
   "outputs": [
    {
     "name": "stdout",
     "output_type": "stream",
     "text": [
      "Fitting 3 folds for each of 3 candidates, totalling 9 fits\n"
     ]
    },
    {
     "name": "stderr",
     "output_type": "stream",
     "text": [
      "[Parallel(n_jobs=-1)]: Done   9 out of   9 | elapsed:   27.0s finished\n"
     ]
    },
    {
     "data": {
      "text/plain": [
       "{'selectfrommodel__threshold': '0.1*mean'}"
      ]
     },
     "execution_count": 49,
     "metadata": {},
     "output_type": "execute_result"
    }
   ],
   "source": [
    "gs_knn_sel.fit(X_train, y_train)\n",
    "gs_knn_sel.best_params_"
   ]
  },
  {
   "cell_type": "markdown",
   "metadata": {},
   "source": [
    "Граница отбора получилась низкая => почти все признаки для knn важны."
   ]
  },
  {
   "cell_type": "code",
   "execution_count": 50,
   "metadata": {},
   "outputs": [
    {
     "data": {
      "text/html": [
       "<div>\n",
       "<style scoped>\n",
       "    .dataframe tbody tr th:only-of-type {\n",
       "        vertical-align: middle;\n",
       "    }\n",
       "\n",
       "    .dataframe tbody tr th {\n",
       "        vertical-align: top;\n",
       "    }\n",
       "\n",
       "    .dataframe thead th {\n",
       "        text-align: right;\n",
       "    }\n",
       "</style>\n",
       "<table border=\"1\" class=\"dataframe\">\n",
       "  <thead>\n",
       "    <tr style=\"text-align: right;\">\n",
       "      <th></th>\n",
       "      <th>mean_fit_time</th>\n",
       "      <th>mean_score_time</th>\n",
       "      <th>mean_test_score</th>\n",
       "      <th>mean_train_score</th>\n",
       "      <th>param_selectfrommodel__threshold</th>\n",
       "      <th>params</th>\n",
       "      <th>rank_test_score</th>\n",
       "      <th>split0_test_score</th>\n",
       "      <th>split0_train_score</th>\n",
       "      <th>split1_test_score</th>\n",
       "      <th>split1_train_score</th>\n",
       "      <th>split2_test_score</th>\n",
       "      <th>split2_train_score</th>\n",
       "      <th>std_fit_time</th>\n",
       "      <th>std_score_time</th>\n",
       "      <th>std_test_score</th>\n",
       "      <th>std_train_score</th>\n",
       "    </tr>\n",
       "  </thead>\n",
       "  <tbody>\n",
       "    <tr>\n",
       "      <th>0</th>\n",
       "      <td>1.684358</td>\n",
       "      <td>9.162720</td>\n",
       "      <td>0.673593</td>\n",
       "      <td>0.906391</td>\n",
       "      <td>0.1*mean</td>\n",
       "      <td>{'selectfrommodel__threshold': '0.1*mean'}</td>\n",
       "      <td>1</td>\n",
       "      <td>0.663688</td>\n",
       "      <td>0.911274</td>\n",
       "      <td>0.679581</td>\n",
       "      <td>0.903425</td>\n",
       "      <td>0.677512</td>\n",
       "      <td>0.904475</td>\n",
       "      <td>0.554769</td>\n",
       "      <td>2.020069</td>\n",
       "      <td>0.007055</td>\n",
       "      <td>0.003479</td>\n",
       "    </tr>\n",
       "    <tr>\n",
       "      <th>1</th>\n",
       "      <td>0.882159</td>\n",
       "      <td>0.847610</td>\n",
       "      <td>0.655882</td>\n",
       "      <td>0.902966</td>\n",
       "      <td>0.5*mean</td>\n",
       "      <td>{'selectfrommodel__threshold': '0.5*mean'}</td>\n",
       "      <td>3</td>\n",
       "      <td>0.645685</td>\n",
       "      <td>0.904813</td>\n",
       "      <td>0.657888</td>\n",
       "      <td>0.901566</td>\n",
       "      <td>0.664076</td>\n",
       "      <td>0.902519</td>\n",
       "      <td>0.348802</td>\n",
       "      <td>0.185500</td>\n",
       "      <td>0.007641</td>\n",
       "      <td>0.001363</td>\n",
       "    </tr>\n",
       "    <tr>\n",
       "      <th>2</th>\n",
       "      <td>0.336931</td>\n",
       "      <td>0.555693</td>\n",
       "      <td>0.657385</td>\n",
       "      <td>0.902291</td>\n",
       "      <td>mean</td>\n",
       "      <td>{'selectfrommodel__threshold': 'mean'}</td>\n",
       "      <td>2</td>\n",
       "      <td>0.643997</td>\n",
       "      <td>0.908042</td>\n",
       "      <td>0.664443</td>\n",
       "      <td>0.899964</td>\n",
       "      <td>0.663717</td>\n",
       "      <td>0.898866</td>\n",
       "      <td>0.017227</td>\n",
       "      <td>0.091373</td>\n",
       "      <td>0.009472</td>\n",
       "      <td>0.004092</td>\n",
       "    </tr>\n",
       "  </tbody>\n",
       "</table>\n",
       "</div>"
      ],
      "text/plain": [
       "   mean_fit_time  mean_score_time  mean_test_score  mean_train_score  \\\n",
       "0       1.684358         9.162720         0.673593          0.906391   \n",
       "1       0.882159         0.847610         0.655882          0.902966   \n",
       "2       0.336931         0.555693         0.657385          0.902291   \n",
       "\n",
       "  param_selectfrommodel__threshold  \\\n",
       "0                         0.1*mean   \n",
       "1                         0.5*mean   \n",
       "2                             mean   \n",
       "\n",
       "                                       params  rank_test_score  \\\n",
       "0  {'selectfrommodel__threshold': '0.1*mean'}                1   \n",
       "1  {'selectfrommodel__threshold': '0.5*mean'}                3   \n",
       "2      {'selectfrommodel__threshold': 'mean'}                2   \n",
       "\n",
       "   split0_test_score  split0_train_score  split1_test_score  \\\n",
       "0           0.663688            0.911274           0.679581   \n",
       "1           0.645685            0.904813           0.657888   \n",
       "2           0.643997            0.908042           0.664443   \n",
       "\n",
       "   split1_train_score  split2_test_score  split2_train_score  std_fit_time  \\\n",
       "0            0.903425           0.677512            0.904475      0.554769   \n",
       "1            0.901566           0.664076            0.902519      0.348802   \n",
       "2            0.899964           0.663717            0.898866      0.017227   \n",
       "\n",
       "   std_score_time  std_test_score  std_train_score  \n",
       "0        2.020069        0.007055         0.003479  \n",
       "1        0.185500        0.007641         0.001363  \n",
       "2        0.091373        0.009472         0.004092  "
      ]
     },
     "execution_count": 50,
     "metadata": {},
     "output_type": "execute_result"
    }
   ],
   "source": [
    "pd.DataFrame(gs_knn_sel.cv_results_)"
   ]
  },
  {
   "cell_type": "code",
   "execution_count": 58,
   "metadata": {},
   "outputs": [
    {
     "data": {
      "text/plain": [
       "Pipeline(memory=None,\n",
       "     steps=[('standardscaler', StandardScaler(copy=True, with_mean=True, with_std=True)), ('selectfrommodel', SelectFromModel(estimator=DecisionTreeClassifier(class_weight=None, criterion='gini', max_depth=10,\n",
       "            max_features=None, max_leaf_nodes=None,\n",
       "            min_impurity_decrease=0.0, min_...owski',\n",
       "           metric_params=None, n_jobs=1, n_neighbors=5, p=2,\n",
       "           weights='uniform'))])"
      ]
     },
     "execution_count": 58,
     "metadata": {},
     "output_type": "execute_result"
    }
   ],
   "source": [
    "#информация о модели\n",
    "knn_sel.set_params(selectfrommodel__threshold='0.1*mean')"
   ]
  },
  {
   "cell_type": "markdown",
   "metadata": {},
   "source": [
    "# Stacking"
   ]
  },
  {
   "cell_type": "code",
   "execution_count": 62,
   "metadata": {},
   "outputs": [],
   "source": [
    "booster = gs_booster.best_estimator_\n",
    "knn = gs_knn.best_estimator_\n",
    "knn_sel = gs_knn_sel.best_estimator_"
   ]
  },
  {
   "cell_type": "markdown",
   "metadata": {},
   "source": [
    "**Задание** Написать функцию, которая возвращает прогноз по схеме кросс-валидации на обучающей выборке и на тесте.\n",
    "\n",
    "Hint: не забудьте использовать метод `'predict_proba'` для [`cross_val_predict`](http://scikit-learn.org/stable/modules/generated/sklearn.model_selection.cross_val_predict.html)"
   ]
  },
  {
   "cell_type": "markdown",
   "metadata": {},
   "source": [
    "Cross_val_predict 3 раза внутри обучает модель и делает предсказания на объектах каждого фолда, не используя информацию о них, и объединяет."
   ]
  },
  {
   "cell_type": "code",
   "execution_count": 71,
   "metadata": {},
   "outputs": [],
   "source": [
    "from sklearn.model_selection import cross_val_predict\n",
    "\n",
    "def meta_feature(clf, X_train, y_train, X_test, cv):\n",
    "    cv_pred_train = cross_val_predict(clf, X_train, y_train, method='predict_proba', cv=cv, n_jobs=-1)[:,1]\n",
    "    clf.fit(X_train, y_train) # иначе clf получается обучен на последней выборке фолдов\n",
    "    pred_test = clf.predict_proba(X_test)[:,1]\n",
    "    return cv_pred_train, pred_test"
   ]
  },
  {
   "cell_type": "markdown",
   "metadata": {},
   "source": [
    "Теперь используем все предсказанные ряды в качестве признаков."
   ]
  },
  {
   "cell_type": "code",
   "execution_count": 74,
   "metadata": {},
   "outputs": [],
   "source": [
    "meta_train = pd.DataFrame()\n",
    "meta_test = pd.DataFrame()\n",
    "\n",
    "meta_train['booster'], meta_test['booster'] = meta_feature(booster, X_train, y_train, X_test, cv)\n",
    "meta_train['knn'    ], meta_test['knn'    ] = meta_feature(knn,     X_train, y_train, X_test, cv)\n",
    "meta_train['knn_sel'], meta_test['knn_sel'] = meta_feature(knn_sel, X_train, y_train, X_test, cv)"
   ]
  },
  {
   "cell_type": "code",
   "execution_count": 75,
   "metadata": {},
   "outputs": [
    {
     "data": {
      "text/plain": [
       "booster    0.757439\n",
       "knn        0.687338\n",
       "knn_sel    0.660856\n",
       "dtype: float64"
      ]
     },
     "execution_count": 75,
     "metadata": {},
     "output_type": "execute_result"
    }
   ],
   "source": [
    "from sklearn.metrics import roc_auc_score\n",
    "meta_test.apply(lambda x: roc_auc_score(y_test, x))"
   ]
  },
  {
   "cell_type": "code",
   "execution_count": 76,
   "metadata": {},
   "outputs": [
    {
     "data": {
      "text/plain": [
       "0.7548658330286295"
      ]
     },
     "execution_count": 76,
     "metadata": {},
     "output_type": "execute_result"
    }
   ],
   "source": [
    "meta_clf = GradientBoostingClassifier()\n",
    "meta_clf.fit(meta_train, y_train)\n",
    "\n",
    "roc_auc_score(y_test, meta_clf.predict_proba(meta_test)[:, 1])"
   ]
  },
  {
   "cell_type": "markdown",
   "metadata": {},
   "source": [
    "Стало хуже \\\\\\_('')_/"
   ]
  },
  {
   "cell_type": "code",
   "execution_count": 78,
   "metadata": {},
   "outputs": [
    {
     "name": "stdout",
     "output_type": "stream",
     "text": [
      "/Users/a1/Documents/Летние школы/Тинькофф Финтех 2018/Семинары\r\n"
     ]
    }
   ],
   "source": [
    "!pwd #print working directory"
   ]
  },
  {
   "cell_type": "code",
   "execution_count": 79,
   "metadata": {},
   "outputs": [],
   "source": [
    "meta_train.to_csv('meta_train.csv')\n",
    "meta_test.to_csv('meta_test.csv')"
   ]
  },
  {
   "cell_type": "markdown",
   "metadata": {},
   "source": [
    "---"
   ]
  },
  {
   "cell_type": "markdown",
   "metadata": {},
   "source": [
    "## Домашнее Задание. Information value\n",
    "Реализовать функцию подсчета [information value](http://ucanalytics.com/blogs/information-value-and-weight-of-evidencebanking-case). \n",
    "\n",
    "* в функции признак должен разбиваться на `num_buck` бакетов.\n",
    "* для каждого бакета подсчитайте величину\n",
    "$$\n",
    "    \\left(    \\frac{tr}{all\\_tr} -       \\frac{1 - tr}{1 - all\\_tr} \\right) \\cdot\n",
    "    \\left(log(\\frac{tr}{all\\_tr}) -  log(\\frac{1 - tr}{1 - all\\_tr})\\right) \\cdot\n",
    "    \\frac{cnt}{all\\_cnt},\n",
    "$$\n",
    "    * $tr$ - доля целевой переменной в бакете (target rate)\n",
    "    * $all\\_tr$ - доля целевой переменной во всей выборке\n",
    "    * $cnt$ - количество объектов в бакете\n",
    "    * $all_cnt$ - количество обектов во всей выборке\n",
    "    \n",
    "* Если в бакете объекты только одного класса, то будут проблемы со взятием логарифма. Для этого значения $tr$ надо обрезать снизу – 0.001, а сверху 0.999 (hint: [`np.clip`](https://docs.scipy.org/doc/numpy/reference/generated/numpy.clip.html))"
   ]
  },
  {
   "cell_type": "code",
   "execution_count": null,
   "metadata": {},
   "outputs": [],
   "source": [
    "def information_value(feature, target, num_buck=10):\n",
    "    # <вставить код>\n",
    "    return iv"
   ]
  },
  {
   "cell_type": "markdown",
   "metadata": {},
   "source": [
    "## Домашнее Задание. Важность признаков\n",
    "\n",
    "Для некоторых задач важно уметь отобрать топ самых информативных признаков, выкинув неинформативный хвост.\n",
    "\n",
    "Произвести сравнение различных способов подсчета важности признаков.\n",
    "\n",
    "Способы подсчета важности:\n",
    "* feature importance градиентного бустинга;\n",
    "* information value;\n",
    "* feature importance от random forest.\n",
    "\n",
    "Способ сравнения:\n",
    "* Фиксируйте одну модель по выбору.\n",
    "* В качестве признаков нужно использовать топ-n от итоговых признаков по критерию важности.\n",
    "* Построить зависимость качества на тесте от количества признаков n для каждого способа.\n",
    "\n",
    "**Замечание**\n",
    "\n",
    "Учесть, что первоначальному одному признаку соответствует несколько признаков после one hot кодирования, а в задании под принаком подразумеваются исходные (age, job, ...). При подсчете feature importance от категориальных полей нужно складывать feature importance всех получиных после one hot кодировки бинарных признаков.\n",
    "\n",
    "\n",
    "Для каких способов совпадают наборы признаков для n = 1, 2, 3?  \n",
    "Какой способ дает лучшее качество на тесте при использовании 5 признаков?"
   ]
  },
  {
   "cell_type": "markdown",
   "metadata": {},
   "source": [
    "## Домашнее Задание. Stacking.\n",
    "\n",
    "Попробовать стэкинг различных наборов моделей:\n",
    "* Одну и туже модель с разными гиперпараметрами параметрами (например, бустинг с разным количеством деревьев);\n",
    "* Разнообразные модели.\n",
    "\n",
    "Попробовать различные мета классификаторы и простое усреднение.\n",
    "\n",
    "Получилось ли за счет стэкинга улучшить качество?\n",
    "Какое метод дает большее качество на тесте?"
   ]
  }
 ],
 "metadata": {
  "kernelspec": {
   "display_name": "Python 3.6",
   "language": "python",
   "name": "python3"
  },
  "language_info": {
   "codemirror_mode": {
    "name": "ipython",
    "version": 3
   },
   "file_extension": ".py",
   "mimetype": "text/x-python",
   "name": "python",
   "nbconvert_exporter": "python",
   "pygments_lexer": "ipython3",
   "version": "3.6.3"
  }
 },
 "nbformat": 4,
 "nbformat_minor": 2
}
