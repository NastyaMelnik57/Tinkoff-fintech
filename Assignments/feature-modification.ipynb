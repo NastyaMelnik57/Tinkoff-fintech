{
 "cells": [
  {
   "cell_type": "markdown",
   "metadata": {},
   "source": [
    "# Кредитный скоринг\n",
    "\n",
    "В задаче кредитного скоринга чаще всего применяется логистическа регрессия, как алгоритм извлечения зависимости.  \n",
    "Из-за линейности модели важным является отбор и преобразования признаков.  \n",
    "В данном ноутбуке мы рассмотрим несколько подходов к преобразования признаков."
   ]
  },
  {
   "cell_type": "markdown",
   "metadata": {},
   "source": [
    "---\n",
    "# Загружаем выборку с данными\n",
    "\n",
    "Выборка содержит заявки на кредит и поля:\n",
    "* `application_date` - дата обработки заявки\n",
    "* `default_flg` - факт наличия дефолта\n",
    "* `f*, v*, d*` - признаки заявки"
   ]
  },
  {
   "cell_type": "code",
   "execution_count": 1,
   "metadata": {},
   "outputs": [
    {
     "data": {
      "text/html": [
       "<div>\n",
       "<style scoped>\n",
       "    .dataframe tbody tr th:only-of-type {\n",
       "        vertical-align: middle;\n",
       "    }\n",
       "\n",
       "    .dataframe tbody tr th {\n",
       "        vertical-align: top;\n",
       "    }\n",
       "\n",
       "    .dataframe thead th {\n",
       "        text-align: right;\n",
       "    }\n",
       "</style>\n",
       "<table border=\"1\" class=\"dataframe\">\n",
       "  <thead>\n",
       "    <tr style=\"text-align: right;\">\n",
       "      <th></th>\n",
       "      <th>default_flg</th>\n",
       "      <th>application_date</th>\n",
       "      <th>f1</th>\n",
       "      <th>f2</th>\n",
       "      <th>f3</th>\n",
       "      <th>f4</th>\n",
       "      <th>v1</th>\n",
       "      <th>v2</th>\n",
       "      <th>v3</th>\n",
       "      <th>d1</th>\n",
       "      <th>d2</th>\n",
       "    </tr>\n",
       "  </thead>\n",
       "  <tbody>\n",
       "    <tr>\n",
       "      <th>0</th>\n",
       "      <td>0</td>\n",
       "      <td>2015-10-27</td>\n",
       "      <td>2.0</td>\n",
       "      <td>49.0</td>\n",
       "      <td>60000.00</td>\n",
       "      <td>0.551720</td>\n",
       "      <td>1219.487337</td>\n",
       "      <td>21766.081065</td>\n",
       "      <td>2.0</td>\n",
       "      <td>0.047946</td>\n",
       "      <td>0.000000</td>\n",
       "    </tr>\n",
       "    <tr>\n",
       "      <th>1</th>\n",
       "      <td>1</td>\n",
       "      <td>2015-11-09</td>\n",
       "      <td>2.0</td>\n",
       "      <td>50.0</td>\n",
       "      <td>59365.20</td>\n",
       "      <td>0.379425</td>\n",
       "      <td>740.270898</td>\n",
       "      <td>11276.991322</td>\n",
       "      <td>2.0</td>\n",
       "      <td>-0.210390</td>\n",
       "      <td>0.377392</td>\n",
       "    </tr>\n",
       "    <tr>\n",
       "      <th>2</th>\n",
       "      <td>0</td>\n",
       "      <td>2015-05-07</td>\n",
       "      <td>2.0</td>\n",
       "      <td>18.0</td>\n",
       "      <td>43764.35</td>\n",
       "      <td>-0.260096</td>\n",
       "      <td>539.627752</td>\n",
       "      <td>11974.353651</td>\n",
       "      <td>0.0</td>\n",
       "      <td>-0.176838</td>\n",
       "      <td>0.426828</td>\n",
       "    </tr>\n",
       "    <tr>\n",
       "      <th>3</th>\n",
       "      <td>0</td>\n",
       "      <td>2015-11-15</td>\n",
       "      <td>2.0</td>\n",
       "      <td>60.0</td>\n",
       "      <td>60000.00</td>\n",
       "      <td>-0.522040</td>\n",
       "      <td>1046.368464</td>\n",
       "      <td>11772.704811</td>\n",
       "      <td>2.0</td>\n",
       "      <td>-0.213644</td>\n",
       "      <td>0.340425</td>\n",
       "    </tr>\n",
       "    <tr>\n",
       "      <th>4</th>\n",
       "      <td>0</td>\n",
       "      <td>2015-03-16</td>\n",
       "      <td>2.0</td>\n",
       "      <td>18.0</td>\n",
       "      <td>41637.74</td>\n",
       "      <td>0.179889</td>\n",
       "      <td>786.084579</td>\n",
       "      <td>14096.999560</td>\n",
       "      <td>2.0</td>\n",
       "      <td>-0.230048</td>\n",
       "      <td>0.472925</td>\n",
       "    </tr>\n",
       "  </tbody>\n",
       "</table>\n",
       "</div>"
      ],
      "text/plain": [
       "   default_flg application_date   f1    f2        f3        f4           v1  \\\n",
       "0            0       2015-10-27  2.0  49.0  60000.00  0.551720  1219.487337   \n",
       "1            1       2015-11-09  2.0  50.0  59365.20  0.379425   740.270898   \n",
       "2            0       2015-05-07  2.0  18.0  43764.35 -0.260096   539.627752   \n",
       "3            0       2015-11-15  2.0  60.0  60000.00 -0.522040  1046.368464   \n",
       "4            0       2015-03-16  2.0  18.0  41637.74  0.179889   786.084579   \n",
       "\n",
       "             v2   v3        d1        d2  \n",
       "0  21766.081065  2.0  0.047946  0.000000  \n",
       "1  11276.991322  2.0 -0.210390  0.377392  \n",
       "2  11974.353651  0.0 -0.176838  0.426828  \n",
       "3  11772.704811  2.0 -0.213644  0.340425  \n",
       "4  14096.999560  2.0 -0.230048  0.472925  "
      ]
     },
     "execution_count": 1,
     "metadata": {},
     "output_type": "execute_result"
    }
   ],
   "source": [
    "import pandas as pd\n",
    "import numpy as np\n",
    "\n",
    "%matplotlib inline\n",
    "\n",
    "url_data = 'https://www.dropbox.com/s/vs9daqt83j8kfqf/feature_transformation.csv?dl=1'\n",
    "df = pd.read_csv(url_data, parse_dates=['application_date'])\n",
    "df.head()"
   ]
  },
  {
   "cell_type": "markdown",
   "metadata": {},
   "source": [
    "Мы будем извлекать зависимость между признаками и целевой переменной.   \n",
    "Для валидации модели необходимо разбить выборку на две части по дате обработки заявки:\n",
    "* обучающая выборка - заявки с датой подачи заявки ранее '2015-08-01'\n",
    "* тестовая выборка - заявки с датой подачи начиная с '2015-08-01'\n",
    "\n",
    "**Задание 1. Разбейте выборку на две части и посчитайте количество объектов в каждой выборке**"
   ]
  },
  {
   "cell_type": "code",
   "execution_count": 3,
   "metadata": {},
   "outputs": [
    {
     "name": "stdout",
     "output_type": "stream",
     "text": [
      "Обучающая выборка:  29924\n",
      "Тестовая выборка :  20076\n"
     ]
    }
   ],
   "source": [
    "features = ['f1','f2','f3','f4','v1','v2', 'v3','d1', 'd2']\n",
    "\n",
    "X = df[features]\n",
    "X_train = df.query('application_date <= \"2015-08-01\"')[features]\n",
    "X_test = df.query('application_date > \"2015-08-01\"')[features]\n",
    "\n",
    "y_train = df.query('application_date <= \"2015-08-01\"')['default_flg']\n",
    "y_test = df.query('application_date > \"2015-08-01\"')['default_flg']\n",
    "\n",
    "assert len(X_train) == len(y_train) and len(X_test) == len(y_test)\n",
    "print('Обучающая выборка: ', len(X_train))\n",
    "print('Тестовая выборка : ', len(X_test))"
   ]
  },
  {
   "cell_type": "markdown",
   "metadata": {},
   "source": [
    "---\n",
    "# Подбор коэффициента регуляризации для логистической регресии\n",
    "\n",
    "Для извлечения зависимости будем использовать [логистическую регрессию](http://scikit-learn.org/stable/modules/generated/sklearn.linear_model.LogisticRegression.html) с l2 регуляризацией.  \n",
    "\n",
    "**Задание 2.**  \n",
    "    Переберите коэффициент регуляризации в интервале от $10^{-3}$ до $10^{3}$.  \n",
    "    Постройте график зависимости качества AUC на тестовой выборке от коэфиициента регуляризации и найдите оптимальное значение."
   ]
  },
  {
   "cell_type": "code",
   "execution_count": 14,
   "metadata": {},
   "outputs": [],
   "source": [
    "import tqdm\n",
    "from tqdm import tqdm"
   ]
  },
  {
   "cell_type": "code",
   "execution_count": 13,
   "metadata": {},
   "outputs": [
    {
     "name": "stderr",
     "output_type": "stream",
     "text": [
      "100%|██████████| 10000/10000 [37:35<00:00,  4.43it/s]\n"
     ]
    },
    {
     "name": "stdout",
     "output_type": "stream",
     "text": [
      "AUC    0.61572\n",
      "dtype: float64\n",
      "Best C:  884.501\n"
     ]
    },
    {
     "data": {
      "image/png": "[encoded data removed]",
      "text/plain": [
       "<matplotlib.figure.Figure at 0x10a61d940>"
      ]
     },
     "metadata": {},
     "output_type": "display_data"
    }
   ],
   "source": [
    "from sklearn.linear_model import LogisticRegression\n",
    "from sklearn.metrics import roc_auc_score\n",
    "\n",
    "metrics = pd.DataFrame(columns=['AUC'], index=pd.Series(name='C'))\n",
    "\n",
    "for C in tqdm(np.arange(0.001, 1000.0, 0.1)):  # <изменить диапазон подбора коэффициента C>\n",
    "    clf = LogisticRegression(C=C)   \n",
    "    clf.fit(X_train, y_train)\n",
    "    y_pred = clf.predict_proba(X_test)[:, 1]\n",
    "    auc = roc_auc_score(y_test, y_pred)\n",
    "    metrics.loc[C] = auc\n",
    "print(metrics.max())\n",
    "C_best = metrics.AUC.idxmax()\n",
    "print('Best C: ', C_best)\n",
    "metrics.plot(logx=True);"
   ]
  },
  {
   "cell_type": "code",
   "execution_count": 30,
   "metadata": {},
   "outputs": [],
   "source": [
    "from sklearn.metrics import roc_auc_score, log_loss, mean_squared_error\n",
    "\n",
    "def add_metrics(metrics, target, predict, name):\n",
    "    # для обращения к ячейкам есть метод .loc[название строки, название столбца]\n",
    "    metrics.loc[name, 'MSE'     ] = mean_squared_error (target, predict)\n",
    "    metrics.loc[name, 'AUC'     ] = roc_auc_score      (target, predict)\n",
    "    metrics.loc[name, 'log_loss'] = log_loss           (target, predict)"
   ]
  },
  {
   "cell_type": "code",
   "execution_count": 141,
   "metadata": {},
   "outputs": [
    {
     "data": {
      "text/html": [
       "<div>\n",
       "<style scoped>\n",
       "    .dataframe tbody tr th:only-of-type {\n",
       "        vertical-align: middle;\n",
       "    }\n",
       "\n",
       "    .dataframe tbody tr th {\n",
       "        vertical-align: top;\n",
       "    }\n",
       "\n",
       "    .dataframe thead th {\n",
       "        text-align: right;\n",
       "    }\n",
       "</style>\n",
       "<table border=\"1\" class=\"dataframe\">\n",
       "  <thead>\n",
       "    <tr style=\"text-align: right;\">\n",
       "      <th></th>\n",
       "      <th>MSE</th>\n",
       "      <th>AUC</th>\n",
       "      <th>log_loss</th>\n",
       "    </tr>\n",
       "  </thead>\n",
       "  <tbody>\n",
       "    <tr>\n",
       "      <th>base</th>\n",
       "      <td>0.112766</td>\n",
       "      <td>0.608159</td>\n",
       "      <td>0.383905</td>\n",
       "    </tr>\n",
       "  </tbody>\n",
       "</table>\n",
       "</div>"
      ],
      "text/plain": [
       "           MSE       AUC  log_loss\n",
       "base  0.112766  0.608159  0.383905"
      ]
     },
     "execution_count": 141,
     "metadata": {},
     "output_type": "execute_result"
    }
   ],
   "source": [
    "metrics = pd.DataFrame()\n",
    "\n",
    "clf = LogisticRegression(C=C_best)   \n",
    "clf.fit(X_train, y_train)\n",
    "y_pred = clf.predict_proba(X_test)[:, 1]\n",
    "add_metrics(metrics, y_test, y_pred, 'base')\n",
    "metrics"
   ]
  },
  {
   "cell_type": "markdown",
   "metadata": {},
   "source": [
    "---\n",
    "# Нормализация признаков\n",
    "\n",
    "Так как l2 регуляризация одинакого штрафует все признаки, то имеет смысл нормировать их все таким образом, чтобы стандартное отклонение равнялось 1 у всех признаков. Для этого можно воспользоваться [`StandardScaler`](http://scikit-learn.org/stable/modules/generated/sklearn.preprocessing.StandardScaler.html).\n",
    "\n",
    "Нормализовывать признаки стоит исходя из обучающей выборки, чтобы избегать переобучения.  \n",
    "Для удобства трансформирования выборки В scikit-learn есть объекты [transformation](http://scikit-learn.org/stable/data_transforms.html), которые только преобразуют наборы признаков.  \n",
    "\n",
    "Так же есть возможность объединять трансформации и модель в единый [пайплайн](http://scikit-learn.org/stable/modules/pipeline.html)\n",
    "```python\n",
    "classificator = make_pipeline(\n",
    "    transformator_1,\n",
    "  ...\n",
    "    transformator_2,\n",
    "    classifier\n",
    ")\n",
    "```\n",
    "\n",
    "При обучении будут подряд обучаться и применятся трансформаторы transformator_1 ... transformator_k, а затем на полученных признаках обучаться модель.  \n",
    "Данный подход удобен тем, что позволяет не изменять исходные выборки признаков и избежать ошибки с дублированием преобразований для обучающей и тестовой выборках.\n",
    "\n",
    "\n",
    "**Задание 3.**  \n",
    "\n",
    "  Произведите нормализацию признаков и опять подберите коэфиициент C.  \n",
    "  Каким образом изменилось качество на тестовой выборке?  \n",
    "  Запомните лучшее значение коэффициента регуляризации и затем используйте его."
   ]
  },
  {
   "cell_type": "code",
   "execution_count": 12,
   "metadata": {},
   "outputs": [],
   "source": [
    "from sklearn.preprocessing import StandardScaler\n",
    "from sklearn.pipeline import make_pipeline\n",
    "\n",
    "scaler = StandardScaler()\n",
    "scaler.fit(X_train)\n",
    "X_train_scaled = scaler.transform(X_train)"
   ]
  },
  {
   "cell_type": "code",
   "execution_count": 16,
   "metadata": {},
   "outputs": [
    {
     "name": "stderr",
     "output_type": "stream",
     "text": [
      "100%|██████████| 10000/10000 [15:37<00:00, 10.67it/s]\n"
     ]
    },
    {
     "name": "stdout",
     "output_type": "stream",
     "text": [
      "AUC    0.700604\n",
      "dtype: float64\n",
      "Best C:  169.60100000000003\n"
     ]
    },
    {
     "data": {
      "image/png": "[encoded data removed]",
      "text/plain": [
       "<matplotlib.figure.Figure at 0x10f946668>"
      ]
     },
     "metadata": {},
     "output_type": "display_data"
    }
   ],
   "source": [
    "from sklearn.linear_model import LogisticRegression\n",
    "from sklearn.metrics import roc_auc_score\n",
    "\n",
    "metrics_scaled = pd.DataFrame(columns=['AUC'], index=pd.Series(name='C'))\n",
    "\n",
    "for C in tqdm(np.arange(0.001, 1000.0, 0.1)):  # <изменить диапазон подбора коэффициента C>\n",
    "    clf = LogisticRegression(C=C)   \n",
    "    clf.fit(X_train_scaled, y_train)\n",
    "    y_pred = clf.predict_proba(X_test_scaled)[:, 1]\n",
    "    auc = roc_auc_score(y_test, y_pred)\n",
    "    metrics_scaled.loc[C] = auc\n",
    "print(metrics_scaled.max())\n",
    "C_best = metrics_scaled.AUC.idxmax()\n",
    "print('Best C: ', C_best)\n",
    "metrics_scaled.plot(logx=True);"
   ]
  },
  {
   "cell_type": "code",
   "execution_count": 142,
   "metadata": {},
   "outputs": [
    {
     "data": {
      "text/html": [
       "<div>\n",
       "<style scoped>\n",
       "    .dataframe tbody tr th:only-of-type {\n",
       "        vertical-align: middle;\n",
       "    }\n",
       "\n",
       "    .dataframe tbody tr th {\n",
       "        vertical-align: top;\n",
       "    }\n",
       "\n",
       "    .dataframe thead th {\n",
       "        text-align: right;\n",
       "    }\n",
       "</style>\n",
       "<table border=\"1\" class=\"dataframe\">\n",
       "  <thead>\n",
       "    <tr style=\"text-align: right;\">\n",
       "      <th></th>\n",
       "      <th>MSE</th>\n",
       "      <th>AUC</th>\n",
       "      <th>log_loss</th>\n",
       "    </tr>\n",
       "  </thead>\n",
       "  <tbody>\n",
       "    <tr>\n",
       "      <th>base</th>\n",
       "      <td>0.112766</td>\n",
       "      <td>0.608159</td>\n",
       "      <td>0.383905</td>\n",
       "    </tr>\n",
       "    <tr>\n",
       "      <th>scaled</th>\n",
       "      <td>0.104434</td>\n",
       "      <td>0.700604</td>\n",
       "      <td>0.355366</td>\n",
       "    </tr>\n",
       "  </tbody>\n",
       "</table>\n",
       "</div>"
      ],
      "text/plain": [
       "             MSE       AUC  log_loss\n",
       "base    0.112766  0.608159  0.383905\n",
       "scaled  0.104434  0.700604  0.355366"
      ]
     },
     "execution_count": 142,
     "metadata": {},
     "output_type": "execute_result"
    }
   ],
   "source": [
    "clf = LogisticRegression(C=C_best)   \n",
    "clf.fit(X_train_scaled, y_train)\n",
    "y_pred = clf.predict_proba(X_test_scaled)[:, 1]\n",
    "add_metrics(metrics, y_test, y_pred, 'scaled')\n",
    "metrics"
   ]
  },
  {
   "cell_type": "markdown",
   "metadata": {},
   "source": [
    "---\n",
    "# Нормализация WoE\n",
    "\n",
    "Влияние некоторых признаков на целевую переменную может быть нелинейным с точки зрения WoE.  \n",
    "Поэтому имеет смысл преобразовать признаки таким образом, чтобы зависимость стала линейной.\n",
    "\n",
    "**Задание 4.**  \n",
    "  Преобразуйте часть признаков таким образом, чтобы график зависимости WoE стал более линейным.  \n",
    "  Посчитайте качество логистической регрессии после такой нормализации."
   ]
  },
  {
   "cell_type": "code",
   "execution_count": 42,
   "metadata": {},
   "outputs": [],
   "source": [
    "from scipy.special import logit\n",
    "\n",
    "def woe_line(feature, target, num_bucket=10):\n",
    "    \"\"\"Подсчет зависимости WoE от среднего значения признака в бакете\"\"\"\n",
    "    \n",
    "    data = pd.DataFrame({'target': target, 'feature': feature})\n",
    "    data['bucket'] = pd.qcut(feature, q=num_bucket, duplicates='drop')\n",
    "    data['obj_count'] = 1\n",
    "    \n",
    "    target_mean = data['target'].mean()\n",
    "    total_count = data['obj_count'].sum()\n",
    "    \n",
    "    data_agg = data.groupby('bucket').agg({'target': 'mean', 'feature': 'mean', 'obj_count': 'sum'})\n",
    "    \n",
    "    data_agg['target'] = np.clip(data_agg['target'], 0.001, 0.999)\n",
    "    data_agg['woe'] = logit(data_agg['target']) - logit(target_mean)\n",
    "    \n",
    "    return data_agg[['feature', 'woe']]"
   ]
  },
  {
   "cell_type": "code",
   "execution_count": 115,
   "metadata": {},
   "outputs": [
    {
     "data": {
      "image/png": "[encoded data removed]",
      "text/plain": [
       "<matplotlib.figure.Figure at 0x1109b31d0>"
      ]
     },
     "metadata": {},
     "output_type": "display_data"
    }
   ],
   "source": [
    "# Пример рисования зависимости woe от значений признака exp(f4)\n",
    "woe_line(X_train['d2'], y_train).plot(kind='scatter', x='feature', y='woe', grid=True);"
   ]
  },
  {
   "cell_type": "code",
   "execution_count": 144,
   "metadata": {},
   "outputs": [
    {
     "name": "stdout",
     "output_type": "stream",
     "text": [
      "0.7094416282837188\n"
     ]
    }
   ],
   "source": [
    "from sklearn.preprocessing import FunctionTransformer\n",
    "\n",
    "\n",
    "def feature_modification(X):\n",
    "    \"\"\"Функция модифицирования признаков\"\"\"\n",
    "    X = pd.DataFrame(X, columns=X_train.columns).copy()\n",
    "    X['v1'] = np.log(X['v1'])\n",
    "    X['v2'] = np.log(X['v2'])\n",
    "    return X\n",
    "\n",
    "clf = make_pipeline(\n",
    "    FunctionTransformer(feature_modification),\n",
    "    StandardScaler(),\n",
    "    LogisticRegression(C=C_best)\n",
    ")\n",
    "    \n",
    "clf.fit(X_train, y_train)\n",
    "y_pred = clf.predict_proba(X_test)[:, 1]\n",
    "auc = roc_auc_score(y_test, y_pred)\n",
    "add_metrics(metrics, y_test, y_pred, 'scaled_WoE')\n",
    "print(auc)"
   ]
  },
  {
   "cell_type": "code",
   "execution_count": 145,
   "metadata": {},
   "outputs": [
    {
     "data": {
      "text/html": [
       "<div>\n",
       "<style scoped>\n",
       "    .dataframe tbody tr th:only-of-type {\n",
       "        vertical-align: middle;\n",
       "    }\n",
       "\n",
       "    .dataframe tbody tr th {\n",
       "        vertical-align: top;\n",
       "    }\n",
       "\n",
       "    .dataframe thead th {\n",
       "        text-align: right;\n",
       "    }\n",
       "</style>\n",
       "<table border=\"1\" class=\"dataframe\">\n",
       "  <thead>\n",
       "    <tr style=\"text-align: right;\">\n",
       "      <th></th>\n",
       "      <th>MSE</th>\n",
       "      <th>AUC</th>\n",
       "      <th>log_loss</th>\n",
       "    </tr>\n",
       "  </thead>\n",
       "  <tbody>\n",
       "    <tr>\n",
       "      <th>base</th>\n",
       "      <td>0.112766</td>\n",
       "      <td>0.608159</td>\n",
       "      <td>0.383905</td>\n",
       "    </tr>\n",
       "    <tr>\n",
       "      <th>scaled</th>\n",
       "      <td>0.104434</td>\n",
       "      <td>0.700604</td>\n",
       "      <td>0.355366</td>\n",
       "    </tr>\n",
       "    <tr>\n",
       "      <th>scaled_WoE</th>\n",
       "      <td>0.103694</td>\n",
       "      <td>0.709442</td>\n",
       "      <td>0.352515</td>\n",
       "    </tr>\n",
       "  </tbody>\n",
       "</table>\n",
       "</div>"
      ],
      "text/plain": [
       "                 MSE       AUC  log_loss\n",
       "base        0.112766  0.608159  0.383905\n",
       "scaled      0.104434  0.700604  0.355366\n",
       "scaled_WoE  0.103694  0.709442  0.352515"
      ]
     },
     "execution_count": 145,
     "metadata": {},
     "output_type": "execute_result"
    }
   ],
   "source": [
    "metrics"
   ]
  },
  {
   "cell_type": "markdown",
   "metadata": {},
   "source": [
    "---\n",
    "# Стабильность признаков\n",
    "\n",
    "Так как мы используем валидацию по времени, то некоторые признаки могут оказаться нестабильными и сильно изменять свое распределение.  \n",
    "Иногда исключение данных признаков из обучения положительно сказывается на качестве модели на отложенной выборке.\n",
    "\n",
    "**Задание 5.**  \n",
    "  Произвести анализ стабильности распределений признаков по времени. Попытаться выделить нестабильные признаки.  \n",
    "  Посчитать качество модели с исключенными нестабильными признаки."
   ]
  },
  {
   "cell_type": "code",
   "execution_count": 123,
   "metadata": {},
   "outputs": [],
   "source": [
    "def plot_distribution_stability(feature, date, num_buck=10, date_freq='M'):\n",
    "    \"\"\"Рисуем изменение распределения признака по времени\"\"\"\n",
    "    df = pd.DataFrame({'feature': feature, 'date': date})\n",
    "    df['feature_buck'] = pd.qcut(feature, q=num_buck, duplicates='drop')\n",
    "    df_agg = df.groupby([pd.Grouper(key='date', freq=date_freq), 'feature_buck']).size().unstack()\n",
    "    df_agg = df_agg.apply(lambda x: x / df_agg.sum(axis=1))\n",
    "    df_agg.plot(kind='bar', stacked=True).legend(bbox_to_anchor=(1, 1))"
   ]
  },
  {
   "cell_type": "code",
   "execution_count": 137,
   "metadata": {},
   "outputs": [
    {
     "data": {
      "image/png": "[encoded data removed]",
      "text/plain": [
       "<matplotlib.figure.Figure at 0x112c68128>"
      ]
     },
     "metadata": {},
     "output_type": "display_data"
    }
   ],
   "source": [
    "# Пример рисования изменения распределения у признака 'f1'\n",
    "plot_distribution_stability(df['d2'], df['application_date'])"
   ]
  },
  {
   "cell_type": "code",
   "execution_count": 146,
   "metadata": {},
   "outputs": [
    {
     "name": "stdout",
     "output_type": "stream",
     "text": [
      "0.7340043372671532\n"
     ]
    }
   ],
   "source": [
    "def drop_features(X):\n",
    "    \"\"\"Функция отбрасывания части признаков\"\"\"\n",
    "    X = pd.DataFrame(X, columns=X_train.columns)\n",
    "    X = X.drop(columns=['d1', 'd2'])  # пример с отбрасыванием признака f1\n",
    "    return X\n",
    "\n",
    "\n",
    "clf = make_pipeline(\n",
    "    FunctionTransformer(feature_modification),\n",
    "    FunctionTransformer(drop_features),\n",
    "    StandardScaler(),\n",
    "    LogisticRegression(C=C_best),\n",
    ")\n",
    "\n",
    "clf.fit(X_train, y_train)\n",
    "y_pred = clf.predict_proba(X_test)[:, 1]\n",
    "auc = roc_auc_score(y_test, y_pred)\n",
    "add_metrics(metrics, y_test, y_pred, 'scaled_WoE_stabilized')\n",
    "print(auc)"
   ]
  },
  {
   "cell_type": "code",
   "execution_count": 147,
   "metadata": {},
   "outputs": [
    {
     "data": {
      "text/html": [
       "<div>\n",
       "<style scoped>\n",
       "    .dataframe tbody tr th:only-of-type {\n",
       "        vertical-align: middle;\n",
       "    }\n",
       "\n",
       "    .dataframe tbody tr th {\n",
       "        vertical-align: top;\n",
       "    }\n",
       "\n",
       "    .dataframe thead th {\n",
       "        text-align: right;\n",
       "    }\n",
       "</style>\n",
       "<table border=\"1\" class=\"dataframe\">\n",
       "  <thead>\n",
       "    <tr style=\"text-align: right;\">\n",
       "      <th></th>\n",
       "      <th>MSE</th>\n",
       "      <th>AUC</th>\n",
       "      <th>log_loss</th>\n",
       "    </tr>\n",
       "  </thead>\n",
       "  <tbody>\n",
       "    <tr>\n",
       "      <th>base</th>\n",
       "      <td>0.112766</td>\n",
       "      <td>0.608159</td>\n",
       "      <td>0.383905</td>\n",
       "    </tr>\n",
       "    <tr>\n",
       "      <th>scaled</th>\n",
       "      <td>0.104434</td>\n",
       "      <td>0.700604</td>\n",
       "      <td>0.355366</td>\n",
       "    </tr>\n",
       "    <tr>\n",
       "      <th>scaled_WoE</th>\n",
       "      <td>0.103694</td>\n",
       "      <td>0.709442</td>\n",
       "      <td>0.352515</td>\n",
       "    </tr>\n",
       "    <tr>\n",
       "      <th>scaled_WoE_stabilized</th>\n",
       "      <td>0.102404</td>\n",
       "      <td>0.734004</td>\n",
       "      <td>0.344841</td>\n",
       "    </tr>\n",
       "  </tbody>\n",
       "</table>\n",
       "</div>"
      ],
      "text/plain": [
       "                            MSE       AUC  log_loss\n",
       "base                   0.112766  0.608159  0.383905\n",
       "scaled                 0.104434  0.700604  0.355366\n",
       "scaled_WoE             0.103694  0.709442  0.352515\n",
       "scaled_WoE_stabilized  0.102404  0.734004  0.344841"
      ]
     },
     "execution_count": 147,
     "metadata": {},
     "output_type": "execute_result"
    }
   ],
   "source": [
    "metrics"
   ]
  },
  {
   "cell_type": "markdown",
   "metadata": {},
   "source": [
    "---\n",
    "# Вывод\n",
    "\n",
    "**Задание 6.**  \n",
    "  Сравните результаты преобразования и отборов признаков по качеству. Какие методы и почему дали прирост в качестве?  \n",
    "  Какие из них можно автоматизировать и каким образом? (В этом задании нужно только написать текст)."
   ]
  },
  {
   "cell_type": "markdown",
   "metadata": {},
   "source": [
    "Были проведены:\n",
    "    - нормализация признаков (приведение стандартного отклонения у всех признаков к 1)\n",
    "    - логарифмирование признаков v1 и v2 с целью приведения зависимости между ними и целевой переменной к более    \n",
    "        линейному виду\n",
    "    - отбор стабильных признаков\n",
    "\n",
    "Каждая операция предобработки признаков улучшала качество: средняя квадратичная ошибка и log loss в итоге уменьшаются на 0.01 и 0,04 соответственно, аук в итоге увеличивается на 0.13. "
   ]
  },
  {
   "cell_type": "markdown",
   "metadata": {},
   "source": [
    "Нормализация признаков проводится автоматически с помощью функции StandardScaler().\n",
    "\n",
    "Чтобы привести зависимость между признаком i и целевой переменной y к более линейному виду, можно автоматически применять последовательно все функции f из списка стандартных функций (экспонента, логарифм, др.) к i и сравнивать зависимость между f(i) и y с линейной функцией (например, пробовать предсказать полученную зависимость с помощью линейной регрессии и оценивать качество).\n",
    "\n",
    "Проверять признак на стабильность можно какими-нибудь статистическими тестами: насколько количество значений из определенного квантиля отличается от среднего по всем количествам этих значений во всех временных промежутках."
   ]
  }
 ],
 "metadata": {
  "kernelspec": {
   "display_name": "Python 3.6",
   "language": "python",
   "name": "python3"
  },
  "language_info": {
   "codemirror_mode": {
    "name": "ipython",
    "version": 3
   },
   "file_extension": ".py",
   "mimetype": "text/x-python",
   "name": "python",
   "nbconvert_exporter": "python",
   "pygments_lexer": "ipython3",
   "version": "3.6.3"
  }
 },
 "nbformat": 4,
 "nbformat_minor": 2
}
